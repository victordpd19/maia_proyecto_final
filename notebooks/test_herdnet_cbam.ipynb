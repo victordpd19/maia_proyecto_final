{
  "cells": [
    {
      "cell_type": "markdown",
      "metadata": {
        "id": "tOMmy2YvTHSy"
      },
      "source": [
        "# Test herdnet CBAM"
      ]
    },
    {
      "cell_type": "markdown",
      "metadata": {
        "id": "_XTpIbRwT9PO"
      },
      "source": [
        "## Installations"
      ]
    },
    {
      "cell_type": "code",
      "execution_count": null,
      "metadata": {
        "id": "9v5ab5BbSrVl"
      },
      "outputs": [],
      "source": [
        "# Check GPU\n",
        "# !nvidia-smi"
      ]
    },
    {
      "cell_type": "code",
      "execution_count": null,
      "metadata": {
        "id": "z9RVoQx5UOkg"
      },
      "outputs": [],
      "source": [
        "# Install the dependencies\n",
        "!pip install albumentations==1.0.3\n",
        "!pip install fiftyone==0.14.3\n",
        "!pip install hydra-core==1.1.0\n",
        "!pip install opencv-python==4.5.1.48\n",
        "!pip install pandas==1.2.3\n",
        "!pip install pillow==8.2.0\n",
        "!pip install scikit-image==0.18.1\n",
        "!pip install scikit-learn==1.0.2\n",
        "!pip install scipy==1.6.2\n",
        "!pip install wandb==0.10.33"
      ]
    },
    {
      "cell_type": "code",
      "execution_count": null,
      "metadata": {
        "id": "oJydpjxoUGAC"
      },
      "outputs": [],
      "source": [
        "# Download and install the code\n",
        "import sys\n",
        "\n",
        "!git clone https://github.com/victordpd19/HerdNet\n",
        "!cd '/content/HerdNet' && python setup.py install\n",
        "\n",
        "sys.path.append('/content/HerdNet')"
      ]
    },
    {
      "cell_type": "markdown",
      "metadata": {
        "id": "cuxaC9qGVk5S"
      },
      "source": [
        "## Create datasets"
      ]
    },
    {
      "cell_type": "code",
      "execution_count": null,
      "metadata": {
        "id": "0yt06VTPVtsq"
      },
      "outputs": [],
      "source": [
        "#  some of the data of Delplanque et al. (2021) as an example\n",
        "!gdown 1CcTAZZJdwrBfCPJtVH6VBU3luGKIN9st -O /content/data.zip\n",
        "!unzip -oq /content/data.zip -d /content"
      ]
    },
    {
      "cell_type": "code",
      "execution_count": null,
      "metadata": {
        "id": "y1n_cQLFYBsJ"
      },
      "outputs": [],
      "source": [
        "# Set the seed\n",
        "from animaloc.utils.seed import set_seed\n",
        "\n",
        "set_seed(9292)"
      ]
    },
    {
      "cell_type": "code",
      "execution_count": null,
      "metadata": {},
      "outputs": [],
      "source": [
        "# Download cbam model\n",
        "!gdown 1ri_1Nwvf72Bm1sh4FI3DMox2HoaCtR7H -O /content/cbam_model.pth\n"
      ]
    },
    {
      "cell_type": "code",
      "execution_count": null,
      "metadata": {},
      "outputs": [],
      "source": [
        "device = torch.device('cpu')\n",
        "checkpoint = torch.load(\"cbam_model.pth\", map_location=device)\n",
        "classes = checkpoint['classes']\n",
        "num_classes = len(classes) + 1\n",
        "img_mean = checkpoint['mean']\n",
        "img_std = checkpoint['std']"
      ]
    },
    {
      "cell_type": "code",
      "execution_count": null,
      "metadata": {},
      "outputs": [],
      "source": [
        "model= checkpoint['model']"
      ]
    },
    {
      "cell_type": "code",
      "execution_count": null,
      "metadata": {
        "id": "Bwp4XPR8YNMR"
      },
      "outputs": [],
      "source": [
        "# Training, validation and test datasets\n",
        "import albumentations as A\n",
        "from animaloc.datasets import CSVDataset\n",
        "from animaloc.data.transforms import DownSample\n",
        "\n",
        "patch_size = 512\n",
        "num_classes = 7\n",
        "down_ratio = 2\n",
        "\n",
        "albu_transforms = [A.Normalize(mean=img_mean, std=img_std)]\n",
        "\n",
        "test_dataset = CSVDataset(\n",
        "    csv_file = '/content/data/test.csv',\n",
        "    root_dir = '/content/data/test',\n",
        "    albu_transforms = albu_transforms,\n",
        "    end_transforms = [DownSample(down_ratio=down_ratio, anno_type='point')]\n",
        "    )\n",
        "\n"
      ]
    },
    {
      "cell_type": "code",
      "execution_count": null,
      "metadata": {
        "id": "lR1W5NVFYhiZ"
      },
      "outputs": [],
      "source": [
        "# Dataloaders\n",
        "from torch.utils.data import DataLoader\n",
        "\n",
        "test_dataloader = DataLoader(dataset = test_dataset, batch_size = 1, shuffle = False)"
      ]
    },
    {
      "cell_type": "markdown",
      "metadata": {
        "id": "Nm5u6yg4V78C"
      },
      "source": [
        "## Create the Evaluator"
      ]
    },
    {
      "cell_type": "code",
      "execution_count": null,
      "metadata": {
        "id": "MSBimwtzWDZp"
      },
      "outputs": [],
      "source": [
        "from torch.optim import Adam\n",
        "from animaloc.train import Trainer\n",
        "from animaloc.eval import PointsMetrics, HerdNetStitcher, HerdNetEvaluator\n",
        "from animaloc.utils.useful_funcs import mkdir\n",
        "\n",
        "work_dir = '/content/output'\n",
        "mkdir(work_dir)\n",
        "\n",
        "test_dir = '/content/test_output'\n",
        "mkdir(test_dir)\n",
        "\n",
        "metrics = PointsMetrics(radius=5, num_classes=num_classes) # radious 20\n",
        "\n",
        "stitcher = HerdNetStitcher(\n",
        "    model=model,\n",
        "    size=(patch_size,patch_size),\n",
        "    overlap=160,\n",
        "    down_ratio=down_ratio,\n",
        "    reduction='mean'\n",
        "    device_name = device\n",
        "    )\n",
        "\n",
        "# Create an Evaluator\n",
        "test_evaluator = HerdNetEvaluator(\n",
        "    model=model,\n",
        "    dataloader=test_dataloader,\n",
        "    metrics=metrics,\n",
        "    lmds_kwargs = dict(kernel_size=(3,3), adapt_ts=0.2, neg_ts=0.1), #lmds: local maximum detection strategy\n",
        "    device_name = device,\n",
        "    stitcher=stitcher,\n",
        "    work_dir=test_dir,\n",
        "    header='test'\n",
        "    )"
      ]
    },
    {
      "cell_type": "code",
      "execution_count": null,
      "metadata": {},
      "outputs": [],
      "source": [
        "test_f1_score = test_evaluator.evaluate(returns='f1_score')"
      ]
    },
    {
      "cell_type": "code",
      "execution_count": null,
      "metadata": {},
      "outputs": [],
      "source": [
        "detections = test_evaluator.results\n",
        "detections"
      ]
    }
  ],
  "metadata": {
    "accelerator": "GPU",
    "colab": {
      "provenance": []
    },
    "gpuClass": "standard",
    "kernelspec": {
      "display_name": "Python 3",
      "name": "python3"
    },
    "language_info": {
      "name": "python"
    }
  },
  "nbformat": 4,
  "nbformat_minor": 0
}
