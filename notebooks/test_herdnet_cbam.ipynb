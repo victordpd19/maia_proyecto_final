{
  "cells": [
    {
      "cell_type": "markdown",
      "metadata": {
        "id": "tOMmy2YvTHSy"
      },
      "source": [
        "# Test herdnet CBAM"
      ]
    },
    {
      "cell_type": "markdown",
      "metadata": {
        "id": "_XTpIbRwT9PO"
      },
      "source": [
        "## Installations"
      ]
    },
    {
      "cell_type": "code",
      "execution_count": 1,
      "metadata": {
        "colab": {
          "base_uri": "https://localhost:8080/"
        },
        "id": "9v5ab5BbSrVl",
        "outputId": "5ea7bbbe-f6b1-4fcd-a5e7-4274bdf62071"
      },
      "outputs": [
        {
          "name": "stdout",
          "output_type": "stream",
          "text": [
            "Fri May 16 14:51:50 2025       \n",
            "+-----------------------------------------------------------------------------------------+\n",
            "| NVIDIA-SMI 550.54.15              Driver Version: 550.54.15      CUDA Version: 12.4     |\n",
            "|-----------------------------------------+------------------------+----------------------+\n",
            "| GPU  Name                 Persistence-M | Bus-Id          Disp.A | Volatile Uncorr. ECC |\n",
            "| Fan  Temp   Perf          Pwr:Usage/Cap |           Memory-Usage | GPU-Util  Compute M. |\n",
            "|                                         |                        |               MIG M. |\n",
            "|=========================================+========================+======================|\n",
            "|   0  Tesla T4                       Off |   00000000:00:04.0 Off |                    0 |\n",
            "| N/A   50C    P8              9W /   70W |       0MiB /  15360MiB |      0%      Default |\n",
            "|                                         |                        |                  N/A |\n",
            "+-----------------------------------------+------------------------+----------------------+\n",
            "                                                                                         \n",
            "+-----------------------------------------------------------------------------------------+\n",
            "| Processes:                                                                              |\n",
            "|  GPU   GI   CI        PID   Type   Process name                              GPU Memory |\n",
            "|        ID   ID                                                               Usage      |\n",
            "|=========================================================================================|\n",
            "|  No running processes found                                                             |\n",
            "+-----------------------------------------------------------------------------------------+\n"
          ]
        }
      ],
      "source": [
        "# Check GPU\n",
        "!nvidia-smi"
      ]
    },
    {
      "cell_type": "code",
      "execution_count": 3,
      "metadata": {
        "colab": {
          "base_uri": "https://localhost:8080/"
        },
        "id": "oJydpjxoUGAC",
        "outputId": "8394a6c2-0a55-46dd-a97c-681245eb3921"
      },
      "outputs": [
        {
          "name": "stdout",
          "output_type": "stream",
          "text": [
            "Cloning into 'HerdNet'...\n",
            "remote: Enumerating objects: 592, done.\u001b[K\n",
            "remote: Counting objects: 100% (205/205), done.\u001b[K\n",
            "remote: Compressing objects: 100% (73/73), done.\u001b[K\n",
            "remote: Total 592 (delta 149), reused 140 (delta 132), pack-reused 387 (from 3)\u001b[K\n",
            "Receiving objects: 100% (592/592), 410.08 KiB | 9.32 MiB/s, done.\n",
            "Resolving deltas: 100% (377/377), done.\n",
            "running install\n",
            "/usr/local/lib/python3.11/dist-packages/setuptools/_distutils/cmd.py:66: SetuptoolsDeprecationWarning: setup.py install is deprecated.\n",
            "!!\n",
            "\n",
            "        ********************************************************************************\n",
            "        Please avoid running ``setup.py`` directly.\n",
            "        Instead, use pypa/build, pypa/installer or other\n",
            "        standards-based tools.\n",
            "\n",
            "        See https://blog.ganssle.io/articles/2021/10/setup-py-deprecated.html for details.\n",
            "        ********************************************************************************\n",
            "\n",
            "!!\n",
            "  self.initialize_options()\n",
            "/usr/local/lib/python3.11/dist-packages/setuptools/_distutils/cmd.py:66: EasyInstallDeprecationWarning: easy_install command is deprecated.\n",
            "!!\n",
            "\n",
            "        ********************************************************************************\n",
            "        Please avoid running ``setup.py`` and ``easy_install``.\n",
            "        Instead, use pypa/build, pypa/installer or other\n",
            "        standards-based tools.\n",
            "\n",
            "        See https://github.com/pypa/setuptools/issues/917 for details.\n",
            "        ********************************************************************************\n",
            "\n",
            "!!\n",
            "  self.initialize_options()\n",
            "running bdist_egg\n",
            "running egg_info\n",
            "creating animaloc.egg-info\n",
            "writing animaloc.egg-info/PKG-INFO\n",
            "writing dependency_links to animaloc.egg-info/dependency_links.txt\n",
            "writing top-level names to animaloc.egg-info/top_level.txt\n",
            "writing manifest file 'animaloc.egg-info/SOURCES.txt'\n",
            "reading manifest file 'animaloc.egg-info/SOURCES.txt'\n",
            "writing manifest file 'animaloc.egg-info/SOURCES.txt'\n",
            "installing library code to build/bdist.linux-x86_64/egg\n",
            "running install_lib\n",
            "running build_py\n",
            "creating build/lib/animaloc\n",
            "copying animaloc/__init__.py -> build/lib/animaloc\n",
            "creating build/lib/animaloc/vizual\n",
            "copying animaloc/vizual/objects.py -> build/lib/animaloc/vizual\n",
            "copying animaloc/vizual/plots.py -> build/lib/animaloc/vizual\n",
            "copying animaloc/vizual/image.py -> build/lib/animaloc/vizual\n",
            "copying animaloc/vizual/__init__.py -> build/lib/animaloc/vizual\n",
            "creating build/lib/animaloc/utils\n",
            "copying animaloc/utils/registry.py -> build/lib/animaloc/utils\n",
            "copying animaloc/utils/timer.py -> build/lib/animaloc/utils\n",
            "copying animaloc/utils/logger.py -> build/lib/animaloc/utils\n",
            "copying animaloc/utils/seed.py -> build/lib/animaloc/utils\n",
            "copying animaloc/utils/useful_funcs.py -> build/lib/animaloc/utils\n",
            "copying animaloc/utils/__init__.py -> build/lib/animaloc/utils\n",
            "copying animaloc/utils/torchvision_utils.py -> build/lib/animaloc/utils\n",
            "creating build/lib/animaloc/datasets\n",
            "copying animaloc/datasets/csv.py -> build/lib/animaloc/datasets\n",
            "copying animaloc/datasets/register.py -> build/lib/animaloc/datasets\n",
            "copying animaloc/datasets/folder.py -> build/lib/animaloc/datasets\n",
            "copying animaloc/datasets/patched.py -> build/lib/animaloc/datasets\n",
            "copying animaloc/datasets/__init__.py -> build/lib/animaloc/datasets\n",
            "creating build/lib/animaloc/train\n",
            "copying animaloc/train/adaloss.py -> build/lib/animaloc/train\n",
            "copying animaloc/train/trainers.py -> build/lib/animaloc/train\n",
            "copying animaloc/train/__init__.py -> build/lib/animaloc/train\n",
            "creating build/lib/animaloc/eval\n",
            "copying animaloc/eval/metrics.py -> build/lib/animaloc/eval\n",
            "copying animaloc/eval/evaluators.py -> build/lib/animaloc/eval\n",
            "copying animaloc/eval/utils.py -> build/lib/animaloc/eval\n",
            "copying animaloc/eval/stitchers.py -> build/lib/animaloc/eval\n",
            "copying animaloc/eval/lmds.py -> build/lib/animaloc/eval\n",
            "copying animaloc/eval/__init__.py -> build/lib/animaloc/eval\n",
            "creating build/lib/animaloc/data\n",
            "copying animaloc/data/processors.py -> build/lib/animaloc/data\n",
            "copying animaloc/data/transforms.py -> build/lib/animaloc/data\n",
            "copying animaloc/data/samplers.py -> build/lib/animaloc/data\n",
            "copying animaloc/data/utils.py -> build/lib/animaloc/data\n",
            "copying animaloc/data/batch_utils.py -> build/lib/animaloc/data\n",
            "copying animaloc/data/annotations.py -> build/lib/animaloc/data\n",
            "copying animaloc/data/__init__.py -> build/lib/animaloc/data\n",
            "copying animaloc/data/patches.py -> build/lib/animaloc/data\n",
            "copying animaloc/data/types.py -> build/lib/animaloc/data\n",
            "creating build/lib/animaloc/models\n",
            "copying animaloc/models/register.py -> build/lib/animaloc/models\n",
            "copying animaloc/models/cbam.py -> build/lib/animaloc/models\n",
            "copying animaloc/models/utils.py -> build/lib/animaloc/models\n",
            "copying animaloc/models/faster_rcnn.py -> build/lib/animaloc/models\n",
            "copying animaloc/models/dla.py -> build/lib/animaloc/models\n",
            "copying animaloc/models/__init__.py -> build/lib/animaloc/models\n",
            "copying animaloc/models/ss_dla.py -> build/lib/animaloc/models\n",
            "copying animaloc/models/herdnet_cbam.py -> build/lib/animaloc/models\n",
            "copying animaloc/models/herdnet.py -> build/lib/animaloc/models\n",
            "creating build/lib/animaloc/train/losses\n",
            "copying animaloc/train/losses/focal.py -> build/lib/animaloc/train/losses\n",
            "copying animaloc/train/losses/register.py -> build/lib/animaloc/train/losses\n",
            "copying animaloc/train/losses/__init__.py -> build/lib/animaloc/train/losses\n",
            "copying animaloc/train/losses/ssim.py -> build/lib/animaloc/train/losses\n",
            "creating build/bdist.linux-x86_64/egg\n",
            "creating build/bdist.linux-x86_64/egg/animaloc\n",
            "creating build/bdist.linux-x86_64/egg/animaloc/vizual\n",
            "copying build/lib/animaloc/vizual/objects.py -> build/bdist.linux-x86_64/egg/animaloc/vizual\n",
            "copying build/lib/animaloc/vizual/plots.py -> build/bdist.linux-x86_64/egg/animaloc/vizual\n",
            "copying build/lib/animaloc/vizual/image.py -> build/bdist.linux-x86_64/egg/animaloc/vizual\n",
            "copying build/lib/animaloc/vizual/__init__.py -> build/bdist.linux-x86_64/egg/animaloc/vizual\n",
            "creating build/bdist.linux-x86_64/egg/animaloc/utils\n",
            "copying build/lib/animaloc/utils/registry.py -> build/bdist.linux-x86_64/egg/animaloc/utils\n",
            "copying build/lib/animaloc/utils/timer.py -> build/bdist.linux-x86_64/egg/animaloc/utils\n",
            "copying build/lib/animaloc/utils/logger.py -> build/bdist.linux-x86_64/egg/animaloc/utils\n",
            "copying build/lib/animaloc/utils/seed.py -> build/bdist.linux-x86_64/egg/animaloc/utils\n",
            "copying build/lib/animaloc/utils/useful_funcs.py -> build/bdist.linux-x86_64/egg/animaloc/utils\n",
            "copying build/lib/animaloc/utils/__init__.py -> build/bdist.linux-x86_64/egg/animaloc/utils\n",
            "copying build/lib/animaloc/utils/torchvision_utils.py -> build/bdist.linux-x86_64/egg/animaloc/utils\n",
            "creating build/bdist.linux-x86_64/egg/animaloc/datasets\n",
            "copying build/lib/animaloc/datasets/csv.py -> build/bdist.linux-x86_64/egg/animaloc/datasets\n",
            "copying build/lib/animaloc/datasets/register.py -> build/bdist.linux-x86_64/egg/animaloc/datasets\n",
            "copying build/lib/animaloc/datasets/folder.py -> build/bdist.linux-x86_64/egg/animaloc/datasets\n",
            "copying build/lib/animaloc/datasets/patched.py -> build/bdist.linux-x86_64/egg/animaloc/datasets\n",
            "copying build/lib/animaloc/datasets/__init__.py -> build/bdist.linux-x86_64/egg/animaloc/datasets\n",
            "creating build/bdist.linux-x86_64/egg/animaloc/train\n",
            "copying build/lib/animaloc/train/adaloss.py -> build/bdist.linux-x86_64/egg/animaloc/train\n",
            "copying build/lib/animaloc/train/trainers.py -> build/bdist.linux-x86_64/egg/animaloc/train\n",
            "copying build/lib/animaloc/train/__init__.py -> build/bdist.linux-x86_64/egg/animaloc/train\n",
            "creating build/bdist.linux-x86_64/egg/animaloc/train/losses\n",
            "copying build/lib/animaloc/train/losses/focal.py -> build/bdist.linux-x86_64/egg/animaloc/train/losses\n",
            "copying build/lib/animaloc/train/losses/register.py -> build/bdist.linux-x86_64/egg/animaloc/train/losses\n",
            "copying build/lib/animaloc/train/losses/__init__.py -> build/bdist.linux-x86_64/egg/animaloc/train/losses\n",
            "copying build/lib/animaloc/train/losses/ssim.py -> build/bdist.linux-x86_64/egg/animaloc/train/losses\n",
            "creating build/bdist.linux-x86_64/egg/animaloc/eval\n",
            "copying build/lib/animaloc/eval/metrics.py -> build/bdist.linux-x86_64/egg/animaloc/eval\n",
            "copying build/lib/animaloc/eval/evaluators.py -> build/bdist.linux-x86_64/egg/animaloc/eval\n",
            "copying build/lib/animaloc/eval/utils.py -> build/bdist.linux-x86_64/egg/animaloc/eval\n",
            "copying build/lib/animaloc/eval/stitchers.py -> build/bdist.linux-x86_64/egg/animaloc/eval\n",
            "copying build/lib/animaloc/eval/lmds.py -> build/bdist.linux-x86_64/egg/animaloc/eval\n",
            "copying build/lib/animaloc/eval/__init__.py -> build/bdist.linux-x86_64/egg/animaloc/eval\n",
            "creating build/bdist.linux-x86_64/egg/animaloc/data\n",
            "copying build/lib/animaloc/data/processors.py -> build/bdist.linux-x86_64/egg/animaloc/data\n",
            "copying build/lib/animaloc/data/transforms.py -> build/bdist.linux-x86_64/egg/animaloc/data\n",
            "copying build/lib/animaloc/data/samplers.py -> build/bdist.linux-x86_64/egg/animaloc/data\n",
            "copying build/lib/animaloc/data/utils.py -> build/bdist.linux-x86_64/egg/animaloc/data\n",
            "copying build/lib/animaloc/data/batch_utils.py -> build/bdist.linux-x86_64/egg/animaloc/data\n",
            "copying build/lib/animaloc/data/annotations.py -> build/bdist.linux-x86_64/egg/animaloc/data\n",
            "copying build/lib/animaloc/data/__init__.py -> build/bdist.linux-x86_64/egg/animaloc/data\n",
            "copying build/lib/animaloc/data/patches.py -> build/bdist.linux-x86_64/egg/animaloc/data\n",
            "copying build/lib/animaloc/data/types.py -> build/bdist.linux-x86_64/egg/animaloc/data\n",
            "creating build/bdist.linux-x86_64/egg/animaloc/models\n",
            "copying build/lib/animaloc/models/register.py -> build/bdist.linux-x86_64/egg/animaloc/models\n",
            "copying build/lib/animaloc/models/cbam.py -> build/bdist.linux-x86_64/egg/animaloc/models\n",
            "copying build/lib/animaloc/models/utils.py -> build/bdist.linux-x86_64/egg/animaloc/models\n",
            "copying build/lib/animaloc/models/faster_rcnn.py -> build/bdist.linux-x86_64/egg/animaloc/models\n",
            "copying build/lib/animaloc/models/dla.py -> build/bdist.linux-x86_64/egg/animaloc/models\n",
            "copying build/lib/animaloc/models/__init__.py -> build/bdist.linux-x86_64/egg/animaloc/models\n",
            "copying build/lib/animaloc/models/ss_dla.py -> build/bdist.linux-x86_64/egg/animaloc/models\n",
            "copying build/lib/animaloc/models/herdnet_cbam.py -> build/bdist.linux-x86_64/egg/animaloc/models\n",
            "copying build/lib/animaloc/models/herdnet.py -> build/bdist.linux-x86_64/egg/animaloc/models\n",
            "copying build/lib/animaloc/__init__.py -> build/bdist.linux-x86_64/egg/animaloc\n",
            "byte-compiling build/bdist.linux-x86_64/egg/animaloc/vizual/objects.py to objects.cpython-311.pyc\n",
            "byte-compiling build/bdist.linux-x86_64/egg/animaloc/vizual/plots.py to plots.cpython-311.pyc\n",
            "byte-compiling build/bdist.linux-x86_64/egg/animaloc/vizual/image.py to image.cpython-311.pyc\n",
            "byte-compiling build/bdist.linux-x86_64/egg/animaloc/vizual/__init__.py to __init__.cpython-311.pyc\n",
            "byte-compiling build/bdist.linux-x86_64/egg/animaloc/utils/registry.py to registry.cpython-311.pyc\n",
            "byte-compiling build/bdist.linux-x86_64/egg/animaloc/utils/timer.py to timer.cpython-311.pyc\n",
            "byte-compiling build/bdist.linux-x86_64/egg/animaloc/utils/logger.py to logger.cpython-311.pyc\n",
            "byte-compiling build/bdist.linux-x86_64/egg/animaloc/utils/seed.py to seed.cpython-311.pyc\n",
            "byte-compiling build/bdist.linux-x86_64/egg/animaloc/utils/useful_funcs.py to useful_funcs.cpython-311.pyc\n",
            "byte-compiling build/bdist.linux-x86_64/egg/animaloc/utils/__init__.py to __init__.cpython-311.pyc\n",
            "byte-compiling build/bdist.linux-x86_64/egg/animaloc/utils/torchvision_utils.py to torchvision_utils.cpython-311.pyc\n",
            "byte-compiling build/bdist.linux-x86_64/egg/animaloc/datasets/csv.py to csv.cpython-311.pyc\n",
            "byte-compiling build/bdist.linux-x86_64/egg/animaloc/datasets/register.py to register.cpython-311.pyc\n",
            "byte-compiling build/bdist.linux-x86_64/egg/animaloc/datasets/folder.py to folder.cpython-311.pyc\n",
            "byte-compiling build/bdist.linux-x86_64/egg/animaloc/datasets/patched.py to patched.cpython-311.pyc\n",
            "byte-compiling build/bdist.linux-x86_64/egg/animaloc/datasets/__init__.py to __init__.cpython-311.pyc\n",
            "byte-compiling build/bdist.linux-x86_64/egg/animaloc/train/adaloss.py to adaloss.cpython-311.pyc\n",
            "byte-compiling build/bdist.linux-x86_64/egg/animaloc/train/trainers.py to trainers.cpython-311.pyc\n",
            "byte-compiling build/bdist.linux-x86_64/egg/animaloc/train/__init__.py to __init__.cpython-311.pyc\n",
            "byte-compiling build/bdist.linux-x86_64/egg/animaloc/train/losses/focal.py to focal.cpython-311.pyc\n",
            "byte-compiling build/bdist.linux-x86_64/egg/animaloc/train/losses/register.py to register.cpython-311.pyc\n",
            "byte-compiling build/bdist.linux-x86_64/egg/animaloc/train/losses/__init__.py to __init__.cpython-311.pyc\n",
            "byte-compiling build/bdist.linux-x86_64/egg/animaloc/train/losses/ssim.py to ssim.cpython-311.pyc\n",
            "byte-compiling build/bdist.linux-x86_64/egg/animaloc/eval/metrics.py to metrics.cpython-311.pyc\n",
            "byte-compiling build/bdist.linux-x86_64/egg/animaloc/eval/evaluators.py to evaluators.cpython-311.pyc\n",
            "byte-compiling build/bdist.linux-x86_64/egg/animaloc/eval/utils.py to utils.cpython-311.pyc\n",
            "byte-compiling build/bdist.linux-x86_64/egg/animaloc/eval/stitchers.py to stitchers.cpython-311.pyc\n",
            "byte-compiling build/bdist.linux-x86_64/egg/animaloc/eval/lmds.py to lmds.cpython-311.pyc\n",
            "byte-compiling build/bdist.linux-x86_64/egg/animaloc/eval/__init__.py to __init__.cpython-311.pyc\n",
            "byte-compiling build/bdist.linux-x86_64/egg/animaloc/data/processors.py to processors.cpython-311.pyc\n",
            "byte-compiling build/bdist.linux-x86_64/egg/animaloc/data/transforms.py to transforms.cpython-311.pyc\n",
            "byte-compiling build/bdist.linux-x86_64/egg/animaloc/data/samplers.py to samplers.cpython-311.pyc\n",
            "byte-compiling build/bdist.linux-x86_64/egg/animaloc/data/utils.py to utils.cpython-311.pyc\n",
            "byte-compiling build/bdist.linux-x86_64/egg/animaloc/data/batch_utils.py to batch_utils.cpython-311.pyc\n",
            "byte-compiling build/bdist.linux-x86_64/egg/animaloc/data/annotations.py to annotations.cpython-311.pyc\n",
            "byte-compiling build/bdist.linux-x86_64/egg/animaloc/data/__init__.py to __init__.cpython-311.pyc\n",
            "byte-compiling build/bdist.linux-x86_64/egg/animaloc/data/patches.py to patches.cpython-311.pyc\n",
            "byte-compiling build/bdist.linux-x86_64/egg/animaloc/data/types.py to types.cpython-311.pyc\n",
            "byte-compiling build/bdist.linux-x86_64/egg/animaloc/models/register.py to register.cpython-311.pyc\n",
            "byte-compiling build/bdist.linux-x86_64/egg/animaloc/models/cbam.py to cbam.cpython-311.pyc\n",
            "byte-compiling build/bdist.linux-x86_64/egg/animaloc/models/utils.py to utils.cpython-311.pyc\n",
            "byte-compiling build/bdist.linux-x86_64/egg/animaloc/models/faster_rcnn.py to faster_rcnn.cpython-311.pyc\n",
            "byte-compiling build/bdist.linux-x86_64/egg/animaloc/models/dla.py to dla.cpython-311.pyc\n",
            "byte-compiling build/bdist.linux-x86_64/egg/animaloc/models/__init__.py to __init__.cpython-311.pyc\n",
            "byte-compiling build/bdist.linux-x86_64/egg/animaloc/models/ss_dla.py to ss_dla.cpython-311.pyc\n",
            "byte-compiling build/bdist.linux-x86_64/egg/animaloc/models/herdnet_cbam.py to herdnet_cbam.cpython-311.pyc\n",
            "byte-compiling build/bdist.linux-x86_64/egg/animaloc/models/herdnet.py to herdnet.cpython-311.pyc\n",
            "byte-compiling build/bdist.linux-x86_64/egg/animaloc/__init__.py to __init__.cpython-311.pyc\n",
            "creating build/bdist.linux-x86_64/egg/EGG-INFO\n",
            "copying animaloc.egg-info/PKG-INFO -> build/bdist.linux-x86_64/egg/EGG-INFO\n",
            "copying animaloc.egg-info/SOURCES.txt -> build/bdist.linux-x86_64/egg/EGG-INFO\n",
            "copying animaloc.egg-info/dependency_links.txt -> build/bdist.linux-x86_64/egg/EGG-INFO\n",
            "copying animaloc.egg-info/top_level.txt -> build/bdist.linux-x86_64/egg/EGG-INFO\n",
            "zip_safe flag not set; analyzing archive contents...\n",
            "creating dist\n",
            "creating 'dist/animaloc-0.2.1-py3.11.egg' and adding 'build/bdist.linux-x86_64/egg' to it\n",
            "removing 'build/bdist.linux-x86_64/egg' (and everything under it)\n",
            "Processing animaloc-0.2.1-py3.11.egg\n",
            "Copying animaloc-0.2.1-py3.11.egg to /usr/local/lib/python3.11/dist-packages\n",
            "Adding animaloc 0.2.1 to easy-install.pth file\n",
            "\n",
            "Installed /usr/local/lib/python3.11/dist-packages/animaloc-0.2.1-py3.11.egg\n",
            "Processing dependencies for animaloc==0.2.1\n",
            "Finished processing dependencies for animaloc==0.2.1\n"
          ]
        }
      ],
      "source": [
        "# Download and install the code\n",
        "import sys\n",
        "\n",
        "!git clone https://github.com/victordpd19/HerdNet\n",
        "!cd '/content/HerdNet' && python setup.py install\n",
        "\n",
        "sys.path.append('/content/HerdNet')"
      ]
    },
    {
      "cell_type": "markdown",
      "metadata": {
        "id": "cuxaC9qGVk5S"
      },
      "source": [
        "## Create datasets"
      ]
    },
    {
      "cell_type": "code",
      "execution_count": 10,
      "metadata": {
        "colab": {
          "base_uri": "https://localhost:8080/"
        },
        "id": "0yt06VTPVtsq",
        "outputId": "582880d9-fec0-48b7-a90c-c78167187c3f"
      },
      "outputs": [
        {
          "name": "stdout",
          "output_type": "stream",
          "text": [
            "Downloading...\n",
            "From (original): https://drive.google.com/uc?id=1KfGBYaXo9LVOiz9qO1pxRH3ZC5bsywCW\n",
            "From (redirected): https://drive.google.com/uc?id=1KfGBYaXo9LVOiz9qO1pxRH3ZC5bsywCW&confirm=t&uuid=b4670336-e66c-4fb9-ad2a-5d9da059f425\n",
            "To: /content/data.zip\n",
            "100% 11.6G/11.6G [03:32<00:00, 54.5MB/s]\n"
          ]
        }
      ],
      "source": [
        "#  some of the data of Delplanque et al. (2021) as an example\n",
        "# https://drive.google.com/file/d/1KfGBYaXo9LVOiz9qO1pxRH3ZC5bsywCW/view?usp=drive_link\n",
        "# !gdown 1CcTAZZJdwrBfCPJtVH6VBU3luGKIN9st -O /content/data.zip # this is the original\n",
        "!gdown 1KfGBYaXo9LVOiz9qO1pxRH3ZC5bsywCW -O /content/data.zip # this is a backup, same data zip\n",
        "!unzip -oq /content/data.zip -d /content"
      ]
    },
    {
      "cell_type": "code",
      "execution_count": 5,
      "metadata": {
        "colab": {
          "base_uri": "https://localhost:8080/"
        },
        "id": "y1n_cQLFYBsJ",
        "outputId": "57fcb3b6-f7dd-49ce-e9bb-d8b214426f6d"
      },
      "outputs": [
        {
          "name": "stderr",
          "output_type": "stream",
          "text": [
            "/usr/local/lib/python3.11/dist-packages/albumentations/__init__.py:28: UserWarning: A new version of Albumentations is available: '2.0.7' (you have '2.0.6'). Upgrade using: pip install -U albumentations. To disable automatic update checks, set the environment variable NO_ALBUMENTATIONS_UPDATE to 1.\n",
            "  check_for_updates()\n"
          ]
        }
      ],
      "source": [
        "# Set the seed\n",
        "from animaloc.utils.seed import set_seed\n",
        "\n",
        "set_seed(9292)"
      ]
    },
    {
      "cell_type": "code",
      "execution_count": 6,
      "metadata": {
        "colab": {
          "base_uri": "https://localhost:8080/"
        },
        "id": "dRkzTlZ5UQQx",
        "outputId": "1037c895-6f23-4151-8772-00ed74b546f4"
      },
      "outputs": [
        {
          "name": "stdout",
          "output_type": "stream",
          "text": [
            "Downloading...\n",
            "From (original): https://drive.google.com/uc?id=1ri_1Nwvf72Bm1sh4FI3DMox2HoaCtR7H\n",
            "From (redirected): https://drive.google.com/uc?id=1ri_1Nwvf72Bm1sh4FI3DMox2HoaCtR7H&confirm=t&uuid=dd9a8dfa-0ffd-4ea9-8542-406065874001\n",
            "To: /content/cbam_model.pth\n",
            "100% 75.1M/75.1M [00:02<00:00, 35.4MB/s]\n"
          ]
        }
      ],
      "source": [
        "# Download cbam model\n",
        "!gdown 1ri_1Nwvf72Bm1sh4FI3DMox2HoaCtR7H -O /content/cbam_model.pth\n"
      ]
    },
    {
      "cell_type": "code",
      "execution_count": 7,
      "metadata": {
        "id": "4PvnHawTUQQx"
      },
      "outputs": [],
      "source": [
        "import torch\n",
        "device = torch.device('cuda' if torch.cuda.is_available() else 'cpu')\n",
        "checkpoint = torch.load(\"cbam_model.pth\", map_location=device, weights_only=False)\n",
        "classes = checkpoint['classes']\n",
        "num_classes = len(classes) + 1\n",
        "img_mean = checkpoint['mean']\n",
        "img_std = checkpoint['std']"
      ]
    },
    {
      "cell_type": "code",
      "execution_count": 8,
      "metadata": {
        "id": "7v3p0oAnUQQx"
      },
      "outputs": [],
      "source": [
        "model= checkpoint['model']"
      ]
    },
    {
      "cell_type": "code",
      "execution_count": 11,
      "metadata": {
        "id": "Bwp4XPR8YNMR"
      },
      "outputs": [],
      "source": [
        "# Training, validation and test datasets\n",
        "import albumentations as A\n",
        "from animaloc.datasets import CSVDataset\n",
        "from animaloc.data.transforms import DownSample\n",
        "\n",
        "patch_size = 512\n",
        "num_classes = 7\n",
        "down_ratio = 2\n",
        "\n",
        "albu_transforms = [A.Normalize(mean=img_mean, std=img_std)]\n",
        "\n",
        "test_dataset = CSVDataset(\n",
        "    csv_file = '/content/data/test.csv',\n",
        "    root_dir = '/content/data/test',\n",
        "    albu_transforms = albu_transforms,\n",
        "    end_transforms = [DownSample(down_ratio=down_ratio, anno_type='point')]\n",
        "    )\n",
        "\n"
      ]
    },
    {
      "cell_type": "code",
      "execution_count": 12,
      "metadata": {
        "id": "lR1W5NVFYhiZ"
      },
      "outputs": [],
      "source": [
        "# Dataloaders\n",
        "from torch.utils.data import DataLoader\n",
        "\n",
        "test_dataloader = DataLoader(dataset = test_dataset, batch_size = 1, shuffle = False)"
      ]
    },
    {
      "cell_type": "markdown",
      "metadata": {
        "id": "Nm5u6yg4V78C"
      },
      "source": [
        "## Create the Evaluator"
      ]
    },
    {
      "cell_type": "code",
      "execution_count": 13,
      "metadata": {
        "id": "MSBimwtzWDZp"
      },
      "outputs": [],
      "source": [
        "from torch.optim import Adam\n",
        "from animaloc.train import Trainer\n",
        "from animaloc.eval import PointsMetrics, HerdNetStitcher, HerdNetEvaluator\n",
        "from animaloc.utils.useful_funcs import mkdir\n",
        "\n",
        "work_dir = '/content/output'\n",
        "mkdir(work_dir)\n",
        "\n",
        "test_dir = '/content/test_output'\n",
        "mkdir(test_dir)\n",
        "\n",
        "metrics = PointsMetrics(radius=5, num_classes=num_classes) # radious 20\n",
        "\n",
        "stitcher = HerdNetStitcher(\n",
        "    model=model,\n",
        "    size=(patch_size,patch_size),\n",
        "    overlap=160,\n",
        "    down_ratio=down_ratio,\n",
        "    reduction='mean',\n",
        "    device_name = device\n",
        "    )\n",
        "\n",
        "# Create an Evaluator\n",
        "test_evaluator = HerdNetEvaluator(\n",
        "    model=model,\n",
        "    dataloader=test_dataloader,\n",
        "    metrics=metrics,\n",
        "    lmds_kwargs = dict(kernel_size=(3,3), adapt_ts=0.2, neg_ts=0.1), #lmds: local maximum detection strategy\n",
        "    device_name = device,\n",
        "    stitcher=stitcher,\n",
        "    work_dir=test_dir,\n",
        "    header='test'\n",
        "    )"
      ]
    },
    {
      "cell_type": "code",
      "execution_count": 14,
      "metadata": {
        "colab": {
          "base_uri": "https://localhost:8080/",
          "height": 280
        },
        "id": "kFoO-AIZU7Qf",
        "outputId": "9162249a-711a-476f-c4a6-cb8b819b2948"
      },
      "outputs": [
        {
          "data": {
            "application/javascript": "\n        window._wandbApiKey = new Promise((resolve, reject) => {\n            function loadScript(url) {\n            return new Promise(function(resolve, reject) {\n                let newScript = document.createElement(\"script\");\n                newScript.onerror = reject;\n                newScript.onload = resolve;\n                document.body.appendChild(newScript);\n                newScript.src = url;\n            });\n            }\n            loadScript(\"https://cdn.jsdelivr.net/npm/postmate/build/postmate.min.js\").then(() => {\n            const iframe = document.createElement('iframe')\n            iframe.style.cssText = \"width:0;height:0;border:none\"\n            document.body.appendChild(iframe)\n            const handshake = new Postmate({\n                container: iframe,\n                url: 'https://wandb.ai/authorize'\n            });\n            const timeout = setTimeout(() => reject(\"Couldn't auto authenticate\"), 5000)\n            handshake.then(function(child) {\n                child.on('authorize', data => {\n                    clearTimeout(timeout)\n                    resolve(data)\n                });\n            });\n            })\n        });\n    ",
            "text/plain": [
              "<IPython.core.display.Javascript object>"
            ]
          },
          "metadata": {},
          "output_type": "display_data"
        },
        {
          "name": "stderr",
          "output_type": "stream",
          "text": [
            "\u001b[34m\u001b[1mwandb\u001b[0m: Logging into wandb.ai. (Learn how to deploy a W&B server locally: https://wandb.me/wandb-server)\n",
            "\u001b[34m\u001b[1mwandb\u001b[0m: You can find your API key in your browser here: https://wandb.ai/authorize?ref=models\n",
            "wandb: Paste an API key from your profile and hit enter:"
          ]
        },
        {
          "name": "stdout",
          "output_type": "stream",
          "text": [
            " ··········\n"
          ]
        },
        {
          "name": "stderr",
          "output_type": "stream",
          "text": [
            "\u001b[34m\u001b[1mwandb\u001b[0m: \u001b[33mWARNING\u001b[0m If you're specifying your api key in code, ensure this code is not shared publicly.\n",
            "\u001b[34m\u001b[1mwandb\u001b[0m: \u001b[33mWARNING\u001b[0m Consider setting the WANDB_API_KEY environment variable, or running `wandb login` from the command line.\n",
            "\u001b[34m\u001b[1mwandb\u001b[0m: No netrc file found, creating one.\n",
            "\u001b[34m\u001b[1mwandb\u001b[0m: Appending key for api.wandb.ai to your netrc file: /root/.netrc\n",
            "\u001b[34m\u001b[1mwandb\u001b[0m: Currently logged in as: \u001b[33mvictorperezd19\u001b[0m (\u001b[33mvictorperezd19-universidad-de-los-andes\u001b[0m) to \u001b[32mhttps://api.wandb.ai\u001b[0m. Use \u001b[1m`wandb login --relogin`\u001b[0m to force relogin\n"
          ]
        },
        {
          "data": {
            "text/html": [
              "Tracking run with wandb version 0.19.11"
            ],
            "text/plain": [
              "<IPython.core.display.HTML object>"
            ]
          },
          "metadata": {},
          "output_type": "display_data"
        },
        {
          "data": {
            "text/html": [
              "Run data is saved locally in <code>/content/wandb/run-20250516_145856-htaql1gu</code>"
            ],
            "text/plain": [
              "<IPython.core.display.HTML object>"
            ]
          },
          "metadata": {},
          "output_type": "display_data"
        },
        {
          "data": {
            "text/html": [
              "Syncing run <strong><a href='https://wandb.ai/victorperezd19-universidad-de-los-andes/colab_cbam_run/runs/htaql1gu' target=\"_blank\">vivid-blaze-3</a></strong> to <a href='https://wandb.ai/victorperezd19-universidad-de-los-andes/colab_cbam_run' target=\"_blank\">Weights & Biases</a> (<a href='https://wandb.me/developer-guide' target=\"_blank\">docs</a>)<br>"
            ],
            "text/plain": [
              "<IPython.core.display.HTML object>"
            ]
          },
          "metadata": {},
          "output_type": "display_data"
        },
        {
          "data": {
            "text/html": [
              " View project at <a href='https://wandb.ai/victorperezd19-universidad-de-los-andes/colab_cbam_run' target=\"_blank\">https://wandb.ai/victorperezd19-universidad-de-los-andes/colab_cbam_run</a>"
            ],
            "text/plain": [
              "<IPython.core.display.HTML object>"
            ]
          },
          "metadata": {},
          "output_type": "display_data"
        },
        {
          "data": {
            "text/html": [
              " View run at <a href='https://wandb.ai/victorperezd19-universidad-de-los-andes/colab_cbam_run/runs/htaql1gu' target=\"_blank\">https://wandb.ai/victorperezd19-universidad-de-los-andes/colab_cbam_run/runs/htaql1gu</a>"
            ],
            "text/plain": [
              "<IPython.core.display.HTML object>"
            ]
          },
          "metadata": {},
          "output_type": "display_data"
        }
      ],
      "source": [
        "import wandb  # Set up wandb\n",
        "from datetime import datetime\n",
        "\n",
        "wandb.init(\n",
        "    project = \"colab_cbam_run\",\n",
        "    entity = \"victorperezd19-universidad-de-los-andes\",\n",
        "    config = dict(\n",
        "        model = model,\n",
        "        down_ratio = down_ratio,\n",
        "        num_classes = num_classes,\n",
        "        threshold = 5 # change\n",
        "        )\n",
        "    )\n",
        "\n",
        "date = datetime.now().strftime('%Y-%m-%d')\n",
        "myrun = \"myrun\"\n",
        "wandb.run.name = f'{date}_' + myrun + f'_RUN_{wandb.run.id}'"
      ]
    },
    {
      "cell_type": "code",
      "execution_count": 15,
      "metadata": {
        "colab": {
          "base_uri": "https://localhost:8080/"
        },
        "id": "MEUsT5D5UQQx",
        "outputId": "f7077904-2a0a-4d50-9abf-8d01031b58c1"
      },
      "outputs": [
        {
          "name": "stderr",
          "output_type": "stream",
          "text": [
            "/usr/local/lib/python3.11/dist-packages/albumentations/core/composition.py:331: UserWarning: Got processor for keypoints, but no transform to process it.\n",
            "  self._set_keys()\n",
            "INFO:20250516_evaluation:test [  1/258] eta: 0:41:23 n: 1 recall: 1.0 precision: 0.12 f1-score: 0.22 MAE: 7.0 MSE: 49.0 RMSE: 7.0 time: 9.6257 data: 1.6895 max mem: 1471\n"
          ]
        },
        {
          "name": "stdout",
          "output_type": "stream",
          "text": [
            "test [  1/258] eta: 0:41:23 n: 1 recall: 1.0 precision: 0.12 f1-score: 0.22 MAE: 7.0 MSE: 49.0 RMSE: 7.0 time: 9.6257 data: 1.6895 max mem: 1471\n"
          ]
        },
        {
          "name": "stderr",
          "output_type": "stream",
          "text": [
            "/usr/local/lib/python3.11/dist-packages/albumentations/core/composition.py:331: UserWarning: Got processor for keypoints, but no transform to process it.\n",
            "  self._set_keys()\n",
            "/usr/local/lib/python3.11/dist-packages/albumentations/core/composition.py:331: UserWarning: Got processor for keypoints, but no transform to process it.\n",
            "  self._set_keys()\n",
            "/usr/local/lib/python3.11/dist-packages/albumentations/core/composition.py:331: UserWarning: Got processor for keypoints, but no transform to process it.\n",
            "  self._set_keys()\n",
            "/usr/local/lib/python3.11/dist-packages/albumentations/core/composition.py:331: UserWarning: Got processor for keypoints, but no transform to process it.\n",
            "  self._set_keys()\n",
            "/usr/local/lib/python3.11/dist-packages/albumentations/core/composition.py:331: UserWarning: Got processor for keypoints, but no transform to process it.\n",
            "  self._set_keys()\n",
            "/usr/local/lib/python3.11/dist-packages/albumentations/core/composition.py:331: UserWarning: Got processor for keypoints, but no transform to process it.\n",
            "  self._set_keys()\n",
            "/usr/local/lib/python3.11/dist-packages/albumentations/core/composition.py:331: UserWarning: Got processor for keypoints, but no transform to process it.\n",
            "  self._set_keys()\n",
            "/usr/local/lib/python3.11/dist-packages/albumentations/core/composition.py:331: UserWarning: Got processor for keypoints, but no transform to process it.\n",
            "  self._set_keys()\n",
            "/usr/local/lib/python3.11/dist-packages/albumentations/core/composition.py:331: UserWarning: Got processor for keypoints, but no transform to process it.\n",
            "  self._set_keys()\n",
            "/usr/local/lib/python3.11/dist-packages/albumentations/core/composition.py:331: UserWarning: Got processor for keypoints, but no transform to process it.\n",
            "  self._set_keys()\n",
            "INFO:20250516_evaluation:test [ 11/258] eta: 0:32:00 n: 1 recall: 0.0 precision: 0.0 f1-score: 0.0 MAE: 1.0 MSE: 1.0 RMSE: 1.0 time: 7.7428 data: 1.2272 max mem: 1472\n"
          ]
        },
        {
          "name": "stdout",
          "output_type": "stream",
          "text": [
            "test [ 11/258] eta: 0:32:00 n: 1 recall: 0.0 precision: 0.0 f1-score: 0.0 MAE: 1.0 MSE: 1.0 RMSE: 1.0 time: 7.7428 data: 1.2272 max mem: 1472\n"
          ]
        },
        {
          "name": "stderr",
          "output_type": "stream",
          "text": [
            "/usr/local/lib/python3.11/dist-packages/albumentations/core/composition.py:331: UserWarning: Got processor for keypoints, but no transform to process it.\n",
            "  self._set_keys()\n",
            "/usr/local/lib/python3.11/dist-packages/albumentations/core/composition.py:331: UserWarning: Got processor for keypoints, but no transform to process it.\n",
            "  self._set_keys()\n",
            "/usr/local/lib/python3.11/dist-packages/albumentations/core/composition.py:331: UserWarning: Got processor for keypoints, but no transform to process it.\n",
            "  self._set_keys()\n",
            "/usr/local/lib/python3.11/dist-packages/albumentations/core/composition.py:331: UserWarning: Got processor for keypoints, but no transform to process it.\n",
            "  self._set_keys()\n",
            "/usr/local/lib/python3.11/dist-packages/albumentations/core/composition.py:331: UserWarning: Got processor for keypoints, but no transform to process it.\n",
            "  self._set_keys()\n",
            "/usr/local/lib/python3.11/dist-packages/albumentations/core/composition.py:331: UserWarning: Got processor for keypoints, but no transform to process it.\n",
            "  self._set_keys()\n",
            "/usr/local/lib/python3.11/dist-packages/albumentations/core/composition.py:331: UserWarning: Got processor for keypoints, but no transform to process it.\n",
            "  self._set_keys()\n",
            "/usr/local/lib/python3.11/dist-packages/albumentations/core/composition.py:331: UserWarning: Got processor for keypoints, but no transform to process it.\n",
            "  self._set_keys()\n",
            "/usr/local/lib/python3.11/dist-packages/albumentations/core/composition.py:331: UserWarning: Got processor for keypoints, but no transform to process it.\n",
            "  self._set_keys()\n",
            "/usr/local/lib/python3.11/dist-packages/albumentations/core/composition.py:331: UserWarning: Got processor for keypoints, but no transform to process it.\n",
            "  self._set_keys()\n",
            "INFO:20250516_evaluation:test [ 21/258] eta: 0:30:13 n: 1 recall: 1.0 precision: 0.12 f1-score: 0.22 MAE: 7.0 MSE: 49.0 RMSE: 7.0 time: 7.5192 data: 1.1644 max mem: 1472\n"
          ]
        },
        {
          "name": "stdout",
          "output_type": "stream",
          "text": [
            "test [ 21/258] eta: 0:30:13 n: 1 recall: 1.0 precision: 0.12 f1-score: 0.22 MAE: 7.0 MSE: 49.0 RMSE: 7.0 time: 7.5192 data: 1.1644 max mem: 1472\n"
          ]
        },
        {
          "name": "stderr",
          "output_type": "stream",
          "text": [
            "/usr/local/lib/python3.11/dist-packages/albumentations/core/composition.py:331: UserWarning: Got processor for keypoints, but no transform to process it.\n",
            "  self._set_keys()\n",
            "/usr/local/lib/python3.11/dist-packages/albumentations/core/composition.py:331: UserWarning: Got processor for keypoints, but no transform to process it.\n",
            "  self._set_keys()\n",
            "/usr/local/lib/python3.11/dist-packages/albumentations/core/composition.py:331: UserWarning: Got processor for keypoints, but no transform to process it.\n",
            "  self._set_keys()\n",
            "/usr/local/lib/python3.11/dist-packages/albumentations/core/composition.py:331: UserWarning: Got processor for keypoints, but no transform to process it.\n",
            "  self._set_keys()\n",
            "/usr/local/lib/python3.11/dist-packages/albumentations/core/composition.py:331: UserWarning: Got processor for keypoints, but no transform to process it.\n",
            "  self._set_keys()\n",
            "/usr/local/lib/python3.11/dist-packages/albumentations/core/composition.py:331: UserWarning: Got processor for keypoints, but no transform to process it.\n",
            "  self._set_keys()\n",
            "/usr/local/lib/python3.11/dist-packages/albumentations/core/composition.py:331: UserWarning: Got processor for keypoints, but no transform to process it.\n",
            "  self._set_keys()\n",
            "/usr/local/lib/python3.11/dist-packages/albumentations/core/composition.py:331: UserWarning: Got processor for keypoints, but no transform to process it.\n",
            "  self._set_keys()\n",
            "/usr/local/lib/python3.11/dist-packages/albumentations/core/composition.py:331: UserWarning: Got processor for keypoints, but no transform to process it.\n",
            "  self._set_keys()\n",
            "/usr/local/lib/python3.11/dist-packages/albumentations/core/composition.py:331: UserWarning: Got processor for keypoints, but no transform to process it.\n",
            "  self._set_keys()\n",
            "INFO:20250516_evaluation:test [ 31/258] eta: 0:28:54 n: 36 recall: 0.92 precision: 0.92 f1-score: 0.92 MAE: 0.0 MSE: 0.0 RMSE: 0.0 time: 7.5303 data: 1.1427 max mem: 1472\n"
          ]
        },
        {
          "name": "stdout",
          "output_type": "stream",
          "text": [
            "test [ 31/258] eta: 0:28:54 n: 36 recall: 0.92 precision: 0.92 f1-score: 0.92 MAE: 0.0 MSE: 0.0 RMSE: 0.0 time: 7.5303 data: 1.1427 max mem: 1472\n"
          ]
        },
        {
          "name": "stderr",
          "output_type": "stream",
          "text": [
            "/usr/local/lib/python3.11/dist-packages/albumentations/core/composition.py:331: UserWarning: Got processor for keypoints, but no transform to process it.\n",
            "  self._set_keys()\n",
            "/usr/local/lib/python3.11/dist-packages/albumentations/core/composition.py:331: UserWarning: Got processor for keypoints, but no transform to process it.\n",
            "  self._set_keys()\n",
            "/usr/local/lib/python3.11/dist-packages/albumentations/core/composition.py:331: UserWarning: Got processor for keypoints, but no transform to process it.\n",
            "  self._set_keys()\n",
            "/usr/local/lib/python3.11/dist-packages/albumentations/core/composition.py:331: UserWarning: Got processor for keypoints, but no transform to process it.\n",
            "  self._set_keys()\n",
            "/usr/local/lib/python3.11/dist-packages/albumentations/core/composition.py:331: UserWarning: Got processor for keypoints, but no transform to process it.\n",
            "  self._set_keys()\n",
            "/usr/local/lib/python3.11/dist-packages/albumentations/core/composition.py:331: UserWarning: Got processor for keypoints, but no transform to process it.\n",
            "  self._set_keys()\n",
            "/usr/local/lib/python3.11/dist-packages/albumentations/core/composition.py:331: UserWarning: Got processor for keypoints, but no transform to process it.\n",
            "  self._set_keys()\n",
            "/usr/local/lib/python3.11/dist-packages/albumentations/core/composition.py:331: UserWarning: Got processor for keypoints, but no transform to process it.\n",
            "  self._set_keys()\n",
            "/usr/local/lib/python3.11/dist-packages/albumentations/core/composition.py:331: UserWarning: Got processor for keypoints, but no transform to process it.\n",
            "  self._set_keys()\n",
            "/usr/local/lib/python3.11/dist-packages/albumentations/core/composition.py:331: UserWarning: Got processor for keypoints, but no transform to process it.\n",
            "  self._set_keys()\n",
            "INFO:20250516_evaluation:test [ 41/258] eta: 0:27:35 n: 1 recall: 1.0 precision: 0.17 f1-score: 0.29 MAE: 5.0 MSE: 25.0 RMSE: 5.0 time: 7.5681 data: 1.1402 max mem: 1472\n"
          ]
        },
        {
          "name": "stdout",
          "output_type": "stream",
          "text": [
            "test [ 41/258] eta: 0:27:35 n: 1 recall: 1.0 precision: 0.17 f1-score: 0.29 MAE: 5.0 MSE: 25.0 RMSE: 5.0 time: 7.5681 data: 1.1402 max mem: 1472\n"
          ]
        },
        {
          "name": "stderr",
          "output_type": "stream",
          "text": [
            "/usr/local/lib/python3.11/dist-packages/albumentations/core/composition.py:331: UserWarning: Got processor for keypoints, but no transform to process it.\n",
            "  self._set_keys()\n",
            "/usr/local/lib/python3.11/dist-packages/albumentations/core/composition.py:331: UserWarning: Got processor for keypoints, but no transform to process it.\n",
            "  self._set_keys()\n",
            "/usr/local/lib/python3.11/dist-packages/albumentations/core/composition.py:331: UserWarning: Got processor for keypoints, but no transform to process it.\n",
            "  self._set_keys()\n",
            "/usr/local/lib/python3.11/dist-packages/albumentations/core/composition.py:331: UserWarning: Got processor for keypoints, but no transform to process it.\n",
            "  self._set_keys()\n",
            "/usr/local/lib/python3.11/dist-packages/albumentations/core/composition.py:331: UserWarning: Got processor for keypoints, but no transform to process it.\n",
            "  self._set_keys()\n",
            "/usr/local/lib/python3.11/dist-packages/albumentations/core/composition.py:331: UserWarning: Got processor for keypoints, but no transform to process it.\n",
            "  self._set_keys()\n",
            "/usr/local/lib/python3.11/dist-packages/albumentations/core/composition.py:331: UserWarning: Got processor for keypoints, but no transform to process it.\n",
            "  self._set_keys()\n",
            "/usr/local/lib/python3.11/dist-packages/albumentations/core/composition.py:331: UserWarning: Got processor for keypoints, but no transform to process it.\n",
            "  self._set_keys()\n",
            "/usr/local/lib/python3.11/dist-packages/albumentations/core/composition.py:331: UserWarning: Got processor for keypoints, but no transform to process it.\n",
            "  self._set_keys()\n",
            "/usr/local/lib/python3.11/dist-packages/albumentations/core/composition.py:331: UserWarning: Got processor for keypoints, but no transform to process it.\n",
            "  self._set_keys()\n",
            "INFO:20250516_evaluation:test [ 51/258] eta: 0:26:17 n: 6 recall: 1.0 precision: 0.75 f1-score: 0.86 MAE: 2.0 MSE: 4.0 RMSE: 2.0 time: 7.5537 data: 1.1491 max mem: 1472\n"
          ]
        },
        {
          "name": "stdout",
          "output_type": "stream",
          "text": [
            "test [ 51/258] eta: 0:26:17 n: 6 recall: 1.0 precision: 0.75 f1-score: 0.86 MAE: 2.0 MSE: 4.0 RMSE: 2.0 time: 7.5537 data: 1.1491 max mem: 1472\n"
          ]
        },
        {
          "name": "stderr",
          "output_type": "stream",
          "text": [
            "/usr/local/lib/python3.11/dist-packages/albumentations/core/composition.py:331: UserWarning: Got processor for keypoints, but no transform to process it.\n",
            "  self._set_keys()\n",
            "/usr/local/lib/python3.11/dist-packages/albumentations/core/composition.py:331: UserWarning: Got processor for keypoints, but no transform to process it.\n",
            "  self._set_keys()\n",
            "/usr/local/lib/python3.11/dist-packages/albumentations/core/composition.py:331: UserWarning: Got processor for keypoints, but no transform to process it.\n",
            "  self._set_keys()\n",
            "/usr/local/lib/python3.11/dist-packages/albumentations/core/composition.py:331: UserWarning: Got processor for keypoints, but no transform to process it.\n",
            "  self._set_keys()\n",
            "/usr/local/lib/python3.11/dist-packages/albumentations/core/composition.py:331: UserWarning: Got processor for keypoints, but no transform to process it.\n",
            "  self._set_keys()\n",
            "/usr/local/lib/python3.11/dist-packages/albumentations/core/composition.py:331: UserWarning: Got processor for keypoints, but no transform to process it.\n",
            "  self._set_keys()\n",
            "/usr/local/lib/python3.11/dist-packages/albumentations/core/composition.py:331: UserWarning: Got processor for keypoints, but no transform to process it.\n",
            "  self._set_keys()\n",
            "/usr/local/lib/python3.11/dist-packages/albumentations/core/composition.py:331: UserWarning: Got processor for keypoints, but no transform to process it.\n",
            "  self._set_keys()\n",
            "/usr/local/lib/python3.11/dist-packages/albumentations/core/composition.py:331: UserWarning: Got processor for keypoints, but no transform to process it.\n",
            "  self._set_keys()\n",
            "/usr/local/lib/python3.11/dist-packages/albumentations/core/composition.py:331: UserWarning: Got processor for keypoints, but no transform to process it.\n",
            "  self._set_keys()\n",
            "INFO:20250516_evaluation:test [ 61/258] eta: 0:25:00 n: 2 recall: 1.0 precision: 0.67 f1-score: 0.8 MAE: 1.0 MSE: 1.0 RMSE: 1.0 time: 7.5465 data: 1.1524 max mem: 1472\n"
          ]
        },
        {
          "name": "stdout",
          "output_type": "stream",
          "text": [
            "test [ 61/258] eta: 0:25:00 n: 2 recall: 1.0 precision: 0.67 f1-score: 0.8 MAE: 1.0 MSE: 1.0 RMSE: 1.0 time: 7.5465 data: 1.1524 max mem: 1472\n"
          ]
        },
        {
          "name": "stderr",
          "output_type": "stream",
          "text": [
            "/usr/local/lib/python3.11/dist-packages/albumentations/core/composition.py:331: UserWarning: Got processor for keypoints, but no transform to process it.\n",
            "  self._set_keys()\n",
            "/usr/local/lib/python3.11/dist-packages/albumentations/core/composition.py:331: UserWarning: Got processor for keypoints, but no transform to process it.\n",
            "  self._set_keys()\n",
            "/usr/local/lib/python3.11/dist-packages/albumentations/core/composition.py:331: UserWarning: Got processor for keypoints, but no transform to process it.\n",
            "  self._set_keys()\n",
            "/usr/local/lib/python3.11/dist-packages/albumentations/core/composition.py:331: UserWarning: Got processor for keypoints, but no transform to process it.\n",
            "  self._set_keys()\n",
            "/usr/local/lib/python3.11/dist-packages/albumentations/core/composition.py:331: UserWarning: Got processor for keypoints, but no transform to process it.\n",
            "  self._set_keys()\n",
            "/usr/local/lib/python3.11/dist-packages/albumentations/core/composition.py:331: UserWarning: Got processor for keypoints, but no transform to process it.\n",
            "  self._set_keys()\n",
            "/usr/local/lib/python3.11/dist-packages/albumentations/core/composition.py:331: UserWarning: Got processor for keypoints, but no transform to process it.\n",
            "  self._set_keys()\n",
            "/usr/local/lib/python3.11/dist-packages/albumentations/core/composition.py:331: UserWarning: Got processor for keypoints, but no transform to process it.\n",
            "  self._set_keys()\n",
            "/usr/local/lib/python3.11/dist-packages/albumentations/core/composition.py:331: UserWarning: Got processor for keypoints, but no transform to process it.\n",
            "  self._set_keys()\n",
            "/usr/local/lib/python3.11/dist-packages/albumentations/core/composition.py:331: UserWarning: Got processor for keypoints, but no transform to process it.\n",
            "  self._set_keys()\n",
            "INFO:20250516_evaluation:test [ 71/258] eta: 0:23:43 n: 1 recall: 0.0 precision: 0.0 f1-score: 0.0 MAE: 1.0 MSE: 1.0 RMSE: 1.0 time: 7.5289 data: 1.1304 max mem: 1472\n"
          ]
        },
        {
          "name": "stdout",
          "output_type": "stream",
          "text": [
            "test [ 71/258] eta: 0:23:43 n: 1 recall: 0.0 precision: 0.0 f1-score: 0.0 MAE: 1.0 MSE: 1.0 RMSE: 1.0 time: 7.5289 data: 1.1304 max mem: 1472\n"
          ]
        },
        {
          "name": "stderr",
          "output_type": "stream",
          "text": [
            "/usr/local/lib/python3.11/dist-packages/albumentations/core/composition.py:331: UserWarning: Got processor for keypoints, but no transform to process it.\n",
            "  self._set_keys()\n",
            "/usr/local/lib/python3.11/dist-packages/albumentations/core/composition.py:331: UserWarning: Got processor for keypoints, but no transform to process it.\n",
            "  self._set_keys()\n",
            "/usr/local/lib/python3.11/dist-packages/albumentations/core/composition.py:331: UserWarning: Got processor for keypoints, but no transform to process it.\n",
            "  self._set_keys()\n",
            "/usr/local/lib/python3.11/dist-packages/albumentations/core/composition.py:331: UserWarning: Got processor for keypoints, but no transform to process it.\n",
            "  self._set_keys()\n",
            "/usr/local/lib/python3.11/dist-packages/albumentations/core/composition.py:331: UserWarning: Got processor for keypoints, but no transform to process it.\n",
            "  self._set_keys()\n",
            "/usr/local/lib/python3.11/dist-packages/albumentations/core/composition.py:331: UserWarning: Got processor for keypoints, but no transform to process it.\n",
            "  self._set_keys()\n",
            "/usr/local/lib/python3.11/dist-packages/albumentations/core/composition.py:331: UserWarning: Got processor for keypoints, but no transform to process it.\n",
            "  self._set_keys()\n",
            "/usr/local/lib/python3.11/dist-packages/albumentations/core/composition.py:331: UserWarning: Got processor for keypoints, but no transform to process it.\n",
            "  self._set_keys()\n",
            "/usr/local/lib/python3.11/dist-packages/albumentations/core/composition.py:331: UserWarning: Got processor for keypoints, but no transform to process it.\n",
            "  self._set_keys()\n",
            "/usr/local/lib/python3.11/dist-packages/albumentations/core/composition.py:331: UserWarning: Got processor for keypoints, but no transform to process it.\n",
            "  self._set_keys()\n",
            "INFO:20250516_evaluation:test [ 81/258] eta: 0:22:26 n: 2 recall: 1.0 precision: 1.0 f1-score: 1.0 MAE: 0.0 MSE: 0.0 RMSE: 0.0 time: 7.5126 data: 1.1196 max mem: 1472\n"
          ]
        },
        {
          "name": "stdout",
          "output_type": "stream",
          "text": [
            "test [ 81/258] eta: 0:22:26 n: 2 recall: 1.0 precision: 1.0 f1-score: 1.0 MAE: 0.0 MSE: 0.0 RMSE: 0.0 time: 7.5126 data: 1.1196 max mem: 1472\n"
          ]
        },
        {
          "name": "stderr",
          "output_type": "stream",
          "text": [
            "/usr/local/lib/python3.11/dist-packages/albumentations/core/composition.py:331: UserWarning: Got processor for keypoints, but no transform to process it.\n",
            "  self._set_keys()\n",
            "/usr/local/lib/python3.11/dist-packages/albumentations/core/composition.py:331: UserWarning: Got processor for keypoints, but no transform to process it.\n",
            "  self._set_keys()\n",
            "/usr/local/lib/python3.11/dist-packages/albumentations/core/composition.py:331: UserWarning: Got processor for keypoints, but no transform to process it.\n",
            "  self._set_keys()\n",
            "/usr/local/lib/python3.11/dist-packages/albumentations/core/composition.py:331: UserWarning: Got processor for keypoints, but no transform to process it.\n",
            "  self._set_keys()\n",
            "/usr/local/lib/python3.11/dist-packages/albumentations/core/composition.py:331: UserWarning: Got processor for keypoints, but no transform to process it.\n",
            "  self._set_keys()\n",
            "/usr/local/lib/python3.11/dist-packages/albumentations/core/composition.py:331: UserWarning: Got processor for keypoints, but no transform to process it.\n",
            "  self._set_keys()\n",
            "/usr/local/lib/python3.11/dist-packages/albumentations/core/composition.py:331: UserWarning: Got processor for keypoints, but no transform to process it.\n",
            "  self._set_keys()\n",
            "/usr/local/lib/python3.11/dist-packages/albumentations/core/composition.py:331: UserWarning: Got processor for keypoints, but no transform to process it.\n",
            "  self._set_keys()\n",
            "/usr/local/lib/python3.11/dist-packages/albumentations/core/composition.py:331: UserWarning: Got processor for keypoints, but no transform to process it.\n",
            "  self._set_keys()\n",
            "/usr/local/lib/python3.11/dist-packages/albumentations/core/composition.py:331: UserWarning: Got processor for keypoints, but no transform to process it.\n",
            "  self._set_keys()\n",
            "INFO:20250516_evaluation:test [ 91/258] eta: 0:21:10 n: 5 recall: 1.0 precision: 0.62 f1-score: 0.77 MAE: 3.0 MSE: 9.0 RMSE: 3.0 time: 7.5316 data: 1.1395 max mem: 1472\n"
          ]
        },
        {
          "name": "stdout",
          "output_type": "stream",
          "text": [
            "test [ 91/258] eta: 0:21:10 n: 5 recall: 1.0 precision: 0.62 f1-score: 0.77 MAE: 3.0 MSE: 9.0 RMSE: 3.0 time: 7.5316 data: 1.1395 max mem: 1472\n"
          ]
        },
        {
          "name": "stderr",
          "output_type": "stream",
          "text": [
            "/usr/local/lib/python3.11/dist-packages/albumentations/core/composition.py:331: UserWarning: Got processor for keypoints, but no transform to process it.\n",
            "  self._set_keys()\n",
            "/usr/local/lib/python3.11/dist-packages/albumentations/core/composition.py:331: UserWarning: Got processor for keypoints, but no transform to process it.\n",
            "  self._set_keys()\n",
            "/usr/local/lib/python3.11/dist-packages/albumentations/core/composition.py:331: UserWarning: Got processor for keypoints, but no transform to process it.\n",
            "  self._set_keys()\n",
            "/usr/local/lib/python3.11/dist-packages/albumentations/core/composition.py:331: UserWarning: Got processor for keypoints, but no transform to process it.\n",
            "  self._set_keys()\n",
            "/usr/local/lib/python3.11/dist-packages/albumentations/core/composition.py:331: UserWarning: Got processor for keypoints, but no transform to process it.\n",
            "  self._set_keys()\n",
            "/usr/local/lib/python3.11/dist-packages/albumentations/core/composition.py:331: UserWarning: Got processor for keypoints, but no transform to process it.\n",
            "  self._set_keys()\n",
            "/usr/local/lib/python3.11/dist-packages/albumentations/core/composition.py:331: UserWarning: Got processor for keypoints, but no transform to process it.\n",
            "  self._set_keys()\n",
            "/usr/local/lib/python3.11/dist-packages/albumentations/core/composition.py:331: UserWarning: Got processor for keypoints, but no transform to process it.\n",
            "  self._set_keys()\n",
            "/usr/local/lib/python3.11/dist-packages/albumentations/core/composition.py:331: UserWarning: Got processor for keypoints, but no transform to process it.\n",
            "  self._set_keys()\n",
            "/usr/local/lib/python3.11/dist-packages/albumentations/core/composition.py:331: UserWarning: Got processor for keypoints, but no transform to process it.\n",
            "  self._set_keys()\n",
            "INFO:20250516_evaluation:test [101/258] eta: 0:19:54 n: 2 recall: 1.0 precision: 0.67 f1-score: 0.8 MAE: 1.0 MSE: 1.0 RMSE: 1.0 time: 7.5450 data: 1.1567 max mem: 1472\n"
          ]
        },
        {
          "name": "stdout",
          "output_type": "stream",
          "text": [
            "test [101/258] eta: 0:19:54 n: 2 recall: 1.0 precision: 0.67 f1-score: 0.8 MAE: 1.0 MSE: 1.0 RMSE: 1.0 time: 7.5450 data: 1.1567 max mem: 1472\n"
          ]
        },
        {
          "name": "stderr",
          "output_type": "stream",
          "text": [
            "/usr/local/lib/python3.11/dist-packages/albumentations/core/composition.py:331: UserWarning: Got processor for keypoints, but no transform to process it.\n",
            "  self._set_keys()\n",
            "/usr/local/lib/python3.11/dist-packages/albumentations/core/composition.py:331: UserWarning: Got processor for keypoints, but no transform to process it.\n",
            "  self._set_keys()\n",
            "/usr/local/lib/python3.11/dist-packages/albumentations/core/composition.py:331: UserWarning: Got processor for keypoints, but no transform to process it.\n",
            "  self._set_keys()\n",
            "/usr/local/lib/python3.11/dist-packages/albumentations/core/composition.py:331: UserWarning: Got processor for keypoints, but no transform to process it.\n",
            "  self._set_keys()\n",
            "/usr/local/lib/python3.11/dist-packages/albumentations/core/composition.py:331: UserWarning: Got processor for keypoints, but no transform to process it.\n",
            "  self._set_keys()\n",
            "/usr/local/lib/python3.11/dist-packages/albumentations/core/composition.py:331: UserWarning: Got processor for keypoints, but no transform to process it.\n",
            "  self._set_keys()\n",
            "/usr/local/lib/python3.11/dist-packages/albumentations/core/composition.py:331: UserWarning: Got processor for keypoints, but no transform to process it.\n",
            "  self._set_keys()\n",
            "/usr/local/lib/python3.11/dist-packages/albumentations/core/composition.py:331: UserWarning: Got processor for keypoints, but no transform to process it.\n",
            "  self._set_keys()\n",
            "/usr/local/lib/python3.11/dist-packages/albumentations/core/composition.py:331: UserWarning: Got processor for keypoints, but no transform to process it.\n",
            "  self._set_keys()\n",
            "/usr/local/lib/python3.11/dist-packages/albumentations/core/composition.py:331: UserWarning: Got processor for keypoints, but no transform to process it.\n",
            "  self._set_keys()\n",
            "INFO:20250516_evaluation:test [111/258] eta: 0:18:38 n: 5 recall: 0.2 precision: 0.2 f1-score: 0.2 MAE: 0.0 MSE: 0.0 RMSE: 0.0 time: 7.5360 data: 1.1390 max mem: 1472\n"
          ]
        },
        {
          "name": "stdout",
          "output_type": "stream",
          "text": [
            "test [111/258] eta: 0:18:38 n: 5 recall: 0.2 precision: 0.2 f1-score: 0.2 MAE: 0.0 MSE: 0.0 RMSE: 0.0 time: 7.5360 data: 1.1390 max mem: 1472\n"
          ]
        },
        {
          "name": "stderr",
          "output_type": "stream",
          "text": [
            "/usr/local/lib/python3.11/dist-packages/albumentations/core/composition.py:331: UserWarning: Got processor for keypoints, but no transform to process it.\n",
            "  self._set_keys()\n",
            "/usr/local/lib/python3.11/dist-packages/albumentations/core/composition.py:331: UserWarning: Got processor for keypoints, but no transform to process it.\n",
            "  self._set_keys()\n",
            "/usr/local/lib/python3.11/dist-packages/albumentations/core/composition.py:331: UserWarning: Got processor for keypoints, but no transform to process it.\n",
            "  self._set_keys()\n",
            "/usr/local/lib/python3.11/dist-packages/albumentations/core/composition.py:331: UserWarning: Got processor for keypoints, but no transform to process it.\n",
            "  self._set_keys()\n",
            "/usr/local/lib/python3.11/dist-packages/albumentations/core/composition.py:331: UserWarning: Got processor for keypoints, but no transform to process it.\n",
            "  self._set_keys()\n",
            "/usr/local/lib/python3.11/dist-packages/albumentations/core/composition.py:331: UserWarning: Got processor for keypoints, but no transform to process it.\n",
            "  self._set_keys()\n",
            "/usr/local/lib/python3.11/dist-packages/albumentations/core/composition.py:331: UserWarning: Got processor for keypoints, but no transform to process it.\n",
            "  self._set_keys()\n",
            "/usr/local/lib/python3.11/dist-packages/albumentations/core/composition.py:331: UserWarning: Got processor for keypoints, but no transform to process it.\n",
            "  self._set_keys()\n",
            "/usr/local/lib/python3.11/dist-packages/albumentations/core/composition.py:331: UserWarning: Got processor for keypoints, but no transform to process it.\n",
            "  self._set_keys()\n",
            "/usr/local/lib/python3.11/dist-packages/albumentations/core/composition.py:331: UserWarning: Got processor for keypoints, but no transform to process it.\n",
            "  self._set_keys()\n",
            "INFO:20250516_evaluation:test [121/258] eta: 0:17:22 n: 1 recall: 1.0 precision: 1.0 f1-score: 1.0 MAE: 0.0 MSE: 0.0 RMSE: 0.0 time: 7.5250 data: 1.1276 max mem: 1472\n"
          ]
        },
        {
          "name": "stdout",
          "output_type": "stream",
          "text": [
            "test [121/258] eta: 0:17:22 n: 1 recall: 1.0 precision: 1.0 f1-score: 1.0 MAE: 0.0 MSE: 0.0 RMSE: 0.0 time: 7.5250 data: 1.1276 max mem: 1472\n"
          ]
        },
        {
          "name": "stderr",
          "output_type": "stream",
          "text": [
            "/usr/local/lib/python3.11/dist-packages/albumentations/core/composition.py:331: UserWarning: Got processor for keypoints, but no transform to process it.\n",
            "  self._set_keys()\n",
            "/usr/local/lib/python3.11/dist-packages/albumentations/core/composition.py:331: UserWarning: Got processor for keypoints, but no transform to process it.\n",
            "  self._set_keys()\n",
            "/usr/local/lib/python3.11/dist-packages/albumentations/core/composition.py:331: UserWarning: Got processor for keypoints, but no transform to process it.\n",
            "  self._set_keys()\n",
            "/usr/local/lib/python3.11/dist-packages/albumentations/core/composition.py:331: UserWarning: Got processor for keypoints, but no transform to process it.\n",
            "  self._set_keys()\n",
            "/usr/local/lib/python3.11/dist-packages/albumentations/core/composition.py:331: UserWarning: Got processor for keypoints, but no transform to process it.\n",
            "  self._set_keys()\n",
            "/usr/local/lib/python3.11/dist-packages/albumentations/core/composition.py:331: UserWarning: Got processor for keypoints, but no transform to process it.\n",
            "  self._set_keys()\n",
            "/usr/local/lib/python3.11/dist-packages/albumentations/core/composition.py:331: UserWarning: Got processor for keypoints, but no transform to process it.\n",
            "  self._set_keys()\n",
            "/usr/local/lib/python3.11/dist-packages/albumentations/core/composition.py:331: UserWarning: Got processor for keypoints, but no transform to process it.\n",
            "  self._set_keys()\n",
            "/usr/local/lib/python3.11/dist-packages/albumentations/core/composition.py:331: UserWarning: Got processor for keypoints, but no transform to process it.\n",
            "  self._set_keys()\n",
            "/usr/local/lib/python3.11/dist-packages/albumentations/core/composition.py:331: UserWarning: Got processor for keypoints, but no transform to process it.\n",
            "  self._set_keys()\n",
            "INFO:20250516_evaluation:test [131/258] eta: 0:16:06 n: 17 recall: 1.0 precision: 0.85 f1-score: 0.92 MAE: 3.0 MSE: 9.0 RMSE: 3.0 time: 7.5252 data: 1.1389 max mem: 1472\n"
          ]
        },
        {
          "name": "stdout",
          "output_type": "stream",
          "text": [
            "test [131/258] eta: 0:16:06 n: 17 recall: 1.0 precision: 0.85 f1-score: 0.92 MAE: 3.0 MSE: 9.0 RMSE: 3.0 time: 7.5252 data: 1.1389 max mem: 1472\n"
          ]
        },
        {
          "name": "stderr",
          "output_type": "stream",
          "text": [
            "/usr/local/lib/python3.11/dist-packages/albumentations/core/composition.py:331: UserWarning: Got processor for keypoints, but no transform to process it.\n",
            "  self._set_keys()\n",
            "/usr/local/lib/python3.11/dist-packages/albumentations/core/composition.py:331: UserWarning: Got processor for keypoints, but no transform to process it.\n",
            "  self._set_keys()\n",
            "/usr/local/lib/python3.11/dist-packages/albumentations/core/composition.py:331: UserWarning: Got processor for keypoints, but no transform to process it.\n",
            "  self._set_keys()\n",
            "/usr/local/lib/python3.11/dist-packages/albumentations/core/composition.py:331: UserWarning: Got processor for keypoints, but no transform to process it.\n",
            "  self._set_keys()\n",
            "/usr/local/lib/python3.11/dist-packages/albumentations/core/composition.py:331: UserWarning: Got processor for keypoints, but no transform to process it.\n",
            "  self._set_keys()\n",
            "/usr/local/lib/python3.11/dist-packages/albumentations/core/composition.py:331: UserWarning: Got processor for keypoints, but no transform to process it.\n",
            "  self._set_keys()\n",
            "/usr/local/lib/python3.11/dist-packages/albumentations/core/composition.py:331: UserWarning: Got processor for keypoints, but no transform to process it.\n",
            "  self._set_keys()\n",
            "/usr/local/lib/python3.11/dist-packages/albumentations/core/composition.py:331: UserWarning: Got processor for keypoints, but no transform to process it.\n",
            "  self._set_keys()\n",
            "/usr/local/lib/python3.11/dist-packages/albumentations/core/composition.py:331: UserWarning: Got processor for keypoints, but no transform to process it.\n",
            "  self._set_keys()\n",
            "/usr/local/lib/python3.11/dist-packages/albumentations/core/composition.py:331: UserWarning: Got processor for keypoints, but no transform to process it.\n",
            "  self._set_keys()\n",
            "INFO:20250516_evaluation:test [141/258] eta: 0:14:50 n: 1 recall: 1.0 precision: 0.5 f1-score: 0.67 MAE: 1.0 MSE: 1.0 RMSE: 1.0 time: 7.5350 data: 1.1427 max mem: 1472\n"
          ]
        },
        {
          "name": "stdout",
          "output_type": "stream",
          "text": [
            "test [141/258] eta: 0:14:50 n: 1 recall: 1.0 precision: 0.5 f1-score: 0.67 MAE: 1.0 MSE: 1.0 RMSE: 1.0 time: 7.5350 data: 1.1427 max mem: 1472\n"
          ]
        },
        {
          "name": "stderr",
          "output_type": "stream",
          "text": [
            "/usr/local/lib/python3.11/dist-packages/albumentations/core/composition.py:331: UserWarning: Got processor for keypoints, but no transform to process it.\n",
            "  self._set_keys()\n",
            "/usr/local/lib/python3.11/dist-packages/albumentations/core/composition.py:331: UserWarning: Got processor for keypoints, but no transform to process it.\n",
            "  self._set_keys()\n",
            "/usr/local/lib/python3.11/dist-packages/albumentations/core/composition.py:331: UserWarning: Got processor for keypoints, but no transform to process it.\n",
            "  self._set_keys()\n",
            "/usr/local/lib/python3.11/dist-packages/albumentations/core/composition.py:331: UserWarning: Got processor for keypoints, but no transform to process it.\n",
            "  self._set_keys()\n",
            "/usr/local/lib/python3.11/dist-packages/albumentations/core/composition.py:331: UserWarning: Got processor for keypoints, but no transform to process it.\n",
            "  self._set_keys()\n",
            "/usr/local/lib/python3.11/dist-packages/albumentations/core/composition.py:331: UserWarning: Got processor for keypoints, but no transform to process it.\n",
            "  self._set_keys()\n",
            "/usr/local/lib/python3.11/dist-packages/albumentations/core/composition.py:331: UserWarning: Got processor for keypoints, but no transform to process it.\n",
            "  self._set_keys()\n",
            "/usr/local/lib/python3.11/dist-packages/albumentations/core/composition.py:331: UserWarning: Got processor for keypoints, but no transform to process it.\n",
            "  self._set_keys()\n",
            "/usr/local/lib/python3.11/dist-packages/albumentations/core/composition.py:331: UserWarning: Got processor for keypoints, but no transform to process it.\n",
            "  self._set_keys()\n",
            "/usr/local/lib/python3.11/dist-packages/albumentations/core/composition.py:331: UserWarning: Got processor for keypoints, but no transform to process it.\n",
            "  self._set_keys()\n",
            "INFO:20250516_evaluation:test [151/258] eta: 0:13:35 n: 1 recall: 1.0 precision: 0.17 f1-score: 0.29 MAE: 5.0 MSE: 25.0 RMSE: 5.0 time: 7.5274 data: 1.1403 max mem: 1472\n"
          ]
        },
        {
          "name": "stdout",
          "output_type": "stream",
          "text": [
            "test [151/258] eta: 0:13:35 n: 1 recall: 1.0 precision: 0.17 f1-score: 0.29 MAE: 5.0 MSE: 25.0 RMSE: 5.0 time: 7.5274 data: 1.1403 max mem: 1472\n"
          ]
        },
        {
          "name": "stderr",
          "output_type": "stream",
          "text": [
            "/usr/local/lib/python3.11/dist-packages/albumentations/core/composition.py:331: UserWarning: Got processor for keypoints, but no transform to process it.\n",
            "  self._set_keys()\n",
            "/usr/local/lib/python3.11/dist-packages/albumentations/core/composition.py:331: UserWarning: Got processor for keypoints, but no transform to process it.\n",
            "  self._set_keys()\n",
            "/usr/local/lib/python3.11/dist-packages/albumentations/core/composition.py:331: UserWarning: Got processor for keypoints, but no transform to process it.\n",
            "  self._set_keys()\n",
            "/usr/local/lib/python3.11/dist-packages/albumentations/core/composition.py:331: UserWarning: Got processor for keypoints, but no transform to process it.\n",
            "  self._set_keys()\n",
            "/usr/local/lib/python3.11/dist-packages/albumentations/core/composition.py:331: UserWarning: Got processor for keypoints, but no transform to process it.\n",
            "  self._set_keys()\n",
            "/usr/local/lib/python3.11/dist-packages/albumentations/core/composition.py:331: UserWarning: Got processor for keypoints, but no transform to process it.\n",
            "  self._set_keys()\n",
            "/usr/local/lib/python3.11/dist-packages/albumentations/core/composition.py:331: UserWarning: Got processor for keypoints, but no transform to process it.\n",
            "  self._set_keys()\n",
            "/usr/local/lib/python3.11/dist-packages/albumentations/core/composition.py:331: UserWarning: Got processor for keypoints, but no transform to process it.\n",
            "  self._set_keys()\n",
            "/usr/local/lib/python3.11/dist-packages/albumentations/core/composition.py:331: UserWarning: Got processor for keypoints, but no transform to process it.\n",
            "  self._set_keys()\n",
            "/usr/local/lib/python3.11/dist-packages/albumentations/core/composition.py:331: UserWarning: Got processor for keypoints, but no transform to process it.\n",
            "  self._set_keys()\n",
            "INFO:20250516_evaluation:test [161/258] eta: 0:12:17 n: 1 recall: 1.0 precision: 0.11 f1-score: 0.2 MAE: 8.0 MSE: 64.0 RMSE: 8.0 time: 7.3306 data: 1.0983 max mem: 1472\n"
          ]
        },
        {
          "name": "stdout",
          "output_type": "stream",
          "text": [
            "test [161/258] eta: 0:12:17 n: 1 recall: 1.0 precision: 0.11 f1-score: 0.2 MAE: 8.0 MSE: 64.0 RMSE: 8.0 time: 7.3306 data: 1.0983 max mem: 1472\n"
          ]
        },
        {
          "name": "stderr",
          "output_type": "stream",
          "text": [
            "/usr/local/lib/python3.11/dist-packages/albumentations/core/composition.py:331: UserWarning: Got processor for keypoints, but no transform to process it.\n",
            "  self._set_keys()\n",
            "/usr/local/lib/python3.11/dist-packages/albumentations/core/composition.py:331: UserWarning: Got processor for keypoints, but no transform to process it.\n",
            "  self._set_keys()\n",
            "/usr/local/lib/python3.11/dist-packages/albumentations/core/composition.py:331: UserWarning: Got processor for keypoints, but no transform to process it.\n",
            "  self._set_keys()\n",
            "/usr/local/lib/python3.11/dist-packages/albumentations/core/composition.py:331: UserWarning: Got processor for keypoints, but no transform to process it.\n",
            "  self._set_keys()\n",
            "/usr/local/lib/python3.11/dist-packages/albumentations/core/composition.py:331: UserWarning: Got processor for keypoints, but no transform to process it.\n",
            "  self._set_keys()\n",
            "/usr/local/lib/python3.11/dist-packages/albumentations/core/composition.py:331: UserWarning: Got processor for keypoints, but no transform to process it.\n",
            "  self._set_keys()\n",
            "/usr/local/lib/python3.11/dist-packages/albumentations/core/composition.py:331: UserWarning: Got processor for keypoints, but no transform to process it.\n",
            "  self._set_keys()\n",
            "/usr/local/lib/python3.11/dist-packages/albumentations/core/composition.py:331: UserWarning: Got processor for keypoints, but no transform to process it.\n",
            "  self._set_keys()\n",
            "/usr/local/lib/python3.11/dist-packages/albumentations/core/composition.py:331: UserWarning: Got processor for keypoints, but no transform to process it.\n",
            "  self._set_keys()\n",
            "/usr/local/lib/python3.11/dist-packages/albumentations/core/composition.py:331: UserWarning: Got processor for keypoints, but no transform to process it.\n",
            "  self._set_keys()\n",
            "INFO:20250516_evaluation:test [171/258] eta: 0:10:56 n: 11 recall: 0.91 precision: 0.42 f1-score: 0.57 MAE: 13.0 MSE: 169.0 RMSE: 13.0 time: 6.7928 data: 1.0512 max mem: 1472\n"
          ]
        },
        {
          "name": "stdout",
          "output_type": "stream",
          "text": [
            "test [171/258] eta: 0:10:56 n: 11 recall: 0.91 precision: 0.42 f1-score: 0.57 MAE: 13.0 MSE: 169.0 RMSE: 13.0 time: 6.7928 data: 1.0512 max mem: 1472\n"
          ]
        },
        {
          "name": "stderr",
          "output_type": "stream",
          "text": [
            "/usr/local/lib/python3.11/dist-packages/albumentations/core/composition.py:331: UserWarning: Got processor for keypoints, but no transform to process it.\n",
            "  self._set_keys()\n",
            "/usr/local/lib/python3.11/dist-packages/albumentations/core/composition.py:331: UserWarning: Got processor for keypoints, but no transform to process it.\n",
            "  self._set_keys()\n",
            "/usr/local/lib/python3.11/dist-packages/albumentations/core/composition.py:331: UserWarning: Got processor for keypoints, but no transform to process it.\n",
            "  self._set_keys()\n",
            "/usr/local/lib/python3.11/dist-packages/albumentations/core/composition.py:331: UserWarning: Got processor for keypoints, but no transform to process it.\n",
            "  self._set_keys()\n",
            "/usr/local/lib/python3.11/dist-packages/albumentations/core/composition.py:331: UserWarning: Got processor for keypoints, but no transform to process it.\n",
            "  self._set_keys()\n",
            "/usr/local/lib/python3.11/dist-packages/albumentations/core/composition.py:331: UserWarning: Got processor for keypoints, but no transform to process it.\n",
            "  self._set_keys()\n",
            "/usr/local/lib/python3.11/dist-packages/albumentations/core/composition.py:331: UserWarning: Got processor for keypoints, but no transform to process it.\n",
            "  self._set_keys()\n",
            "/usr/local/lib/python3.11/dist-packages/albumentations/core/composition.py:331: UserWarning: Got processor for keypoints, but no transform to process it.\n",
            "  self._set_keys()\n",
            "/usr/local/lib/python3.11/dist-packages/albumentations/core/composition.py:331: UserWarning: Got processor for keypoints, but no transform to process it.\n",
            "  self._set_keys()\n",
            "/usr/local/lib/python3.11/dist-packages/albumentations/core/composition.py:331: UserWarning: Got processor for keypoints, but no transform to process it.\n",
            "  self._set_keys()\n",
            "INFO:20250516_evaluation:test [181/258] eta: 0:09:37 n: 14 recall: 0.5 precision: 0.7 f1-score: 0.58 MAE: 4.0 MSE: 16.0 RMSE: 4.0 time: 6.4934 data: 1.0459 max mem: 1472\n"
          ]
        },
        {
          "name": "stdout",
          "output_type": "stream",
          "text": [
            "test [181/258] eta: 0:09:37 n: 14 recall: 0.5 precision: 0.7 f1-score: 0.58 MAE: 4.0 MSE: 16.0 RMSE: 4.0 time: 6.4934 data: 1.0459 max mem: 1472\n"
          ]
        },
        {
          "name": "stderr",
          "output_type": "stream",
          "text": [
            "/usr/local/lib/python3.11/dist-packages/albumentations/core/composition.py:331: UserWarning: Got processor for keypoints, but no transform to process it.\n",
            "  self._set_keys()\n",
            "/usr/local/lib/python3.11/dist-packages/albumentations/core/composition.py:331: UserWarning: Got processor for keypoints, but no transform to process it.\n",
            "  self._set_keys()\n",
            "/usr/local/lib/python3.11/dist-packages/albumentations/core/composition.py:331: UserWarning: Got processor for keypoints, but no transform to process it.\n",
            "  self._set_keys()\n",
            "/usr/local/lib/python3.11/dist-packages/albumentations/core/composition.py:331: UserWarning: Got processor for keypoints, but no transform to process it.\n",
            "  self._set_keys()\n",
            "/usr/local/lib/python3.11/dist-packages/albumentations/core/composition.py:331: UserWarning: Got processor for keypoints, but no transform to process it.\n",
            "  self._set_keys()\n",
            "/usr/local/lib/python3.11/dist-packages/albumentations/core/composition.py:331: UserWarning: Got processor for keypoints, but no transform to process it.\n",
            "  self._set_keys()\n",
            "/usr/local/lib/python3.11/dist-packages/albumentations/core/composition.py:331: UserWarning: Got processor for keypoints, but no transform to process it.\n",
            "  self._set_keys()\n",
            "/usr/local/lib/python3.11/dist-packages/albumentations/core/composition.py:331: UserWarning: Got processor for keypoints, but no transform to process it.\n",
            "  self._set_keys()\n",
            "/usr/local/lib/python3.11/dist-packages/albumentations/core/composition.py:331: UserWarning: Got processor for keypoints, but no transform to process it.\n",
            "  self._set_keys()\n",
            "/usr/local/lib/python3.11/dist-packages/albumentations/core/composition.py:331: UserWarning: Got processor for keypoints, but no transform to process it.\n",
            "  self._set_keys()\n",
            "INFO:20250516_evaluation:test [191/258] eta: 0:08:20 n: 1 recall: 1.0 precision: 0.2 f1-score: 0.33 MAE: 4.0 MSE: 16.0 RMSE: 4.0 time: 6.4595 data: 0.9825 max mem: 1472\n"
          ]
        },
        {
          "name": "stdout",
          "output_type": "stream",
          "text": [
            "test [191/258] eta: 0:08:20 n: 1 recall: 1.0 precision: 0.2 f1-score: 0.33 MAE: 4.0 MSE: 16.0 RMSE: 4.0 time: 6.4595 data: 0.9825 max mem: 1472\n"
          ]
        },
        {
          "name": "stderr",
          "output_type": "stream",
          "text": [
            "/usr/local/lib/python3.11/dist-packages/albumentations/core/composition.py:331: UserWarning: Got processor for keypoints, but no transform to process it.\n",
            "  self._set_keys()\n",
            "/usr/local/lib/python3.11/dist-packages/albumentations/core/composition.py:331: UserWarning: Got processor for keypoints, but no transform to process it.\n",
            "  self._set_keys()\n",
            "/usr/local/lib/python3.11/dist-packages/albumentations/core/composition.py:331: UserWarning: Got processor for keypoints, but no transform to process it.\n",
            "  self._set_keys()\n",
            "/usr/local/lib/python3.11/dist-packages/albumentations/core/composition.py:331: UserWarning: Got processor for keypoints, but no transform to process it.\n",
            "  self._set_keys()\n",
            "/usr/local/lib/python3.11/dist-packages/albumentations/core/composition.py:331: UserWarning: Got processor for keypoints, but no transform to process it.\n",
            "  self._set_keys()\n",
            "/usr/local/lib/python3.11/dist-packages/albumentations/core/composition.py:331: UserWarning: Got processor for keypoints, but no transform to process it.\n",
            "  self._set_keys()\n",
            "/usr/local/lib/python3.11/dist-packages/albumentations/core/composition.py:331: UserWarning: Got processor for keypoints, but no transform to process it.\n",
            "  self._set_keys()\n",
            "/usr/local/lib/python3.11/dist-packages/albumentations/core/composition.py:331: UserWarning: Got processor for keypoints, but no transform to process it.\n",
            "  self._set_keys()\n",
            "/usr/local/lib/python3.11/dist-packages/albumentations/core/composition.py:331: UserWarning: Got processor for keypoints, but no transform to process it.\n",
            "  self._set_keys()\n",
            "/usr/local/lib/python3.11/dist-packages/albumentations/core/composition.py:331: UserWarning: Got processor for keypoints, but no transform to process it.\n",
            "  self._set_keys()\n",
            "INFO:20250516_evaluation:test [201/258] eta: 0:07:03 n: 1 recall: 0.0 precision: 0.0 f1-score: 0.0 MAE: 1.0 MSE: 1.0 RMSE: 1.0 time: 6.3923 data: 0.9093 max mem: 1472\n"
          ]
        },
        {
          "name": "stdout",
          "output_type": "stream",
          "text": [
            "test [201/258] eta: 0:07:03 n: 1 recall: 0.0 precision: 0.0 f1-score: 0.0 MAE: 1.0 MSE: 1.0 RMSE: 1.0 time: 6.3923 data: 0.9093 max mem: 1472\n"
          ]
        },
        {
          "name": "stderr",
          "output_type": "stream",
          "text": [
            "/usr/local/lib/python3.11/dist-packages/albumentations/core/composition.py:331: UserWarning: Got processor for keypoints, but no transform to process it.\n",
            "  self._set_keys()\n",
            "/usr/local/lib/python3.11/dist-packages/albumentations/core/composition.py:331: UserWarning: Got processor for keypoints, but no transform to process it.\n",
            "  self._set_keys()\n",
            "/usr/local/lib/python3.11/dist-packages/albumentations/core/composition.py:331: UserWarning: Got processor for keypoints, but no transform to process it.\n",
            "  self._set_keys()\n",
            "/usr/local/lib/python3.11/dist-packages/albumentations/core/composition.py:331: UserWarning: Got processor for keypoints, but no transform to process it.\n",
            "  self._set_keys()\n",
            "/usr/local/lib/python3.11/dist-packages/albumentations/core/composition.py:331: UserWarning: Got processor for keypoints, but no transform to process it.\n",
            "  self._set_keys()\n",
            "/usr/local/lib/python3.11/dist-packages/albumentations/core/composition.py:331: UserWarning: Got processor for keypoints, but no transform to process it.\n",
            "  self._set_keys()\n",
            "/usr/local/lib/python3.11/dist-packages/albumentations/core/composition.py:331: UserWarning: Got processor for keypoints, but no transform to process it.\n",
            "  self._set_keys()\n",
            "/usr/local/lib/python3.11/dist-packages/albumentations/core/composition.py:331: UserWarning: Got processor for keypoints, but no transform to process it.\n",
            "  self._set_keys()\n",
            "/usr/local/lib/python3.11/dist-packages/albumentations/core/composition.py:331: UserWarning: Got processor for keypoints, but no transform to process it.\n",
            "  self._set_keys()\n",
            "/usr/local/lib/python3.11/dist-packages/albumentations/core/composition.py:331: UserWarning: Got processor for keypoints, but no transform to process it.\n",
            "  self._set_keys()\n",
            "INFO:20250516_evaluation:test [211/258] eta: 0:05:48 n: 3 recall: 0.33 precision: 0.25 f1-score: 0.29 MAE: 1.0 MSE: 1.0 RMSE: 1.0 time: 6.3234 data: 0.8900 max mem: 1472\n"
          ]
        },
        {
          "name": "stdout",
          "output_type": "stream",
          "text": [
            "test [211/258] eta: 0:05:48 n: 3 recall: 0.33 precision: 0.25 f1-score: 0.29 MAE: 1.0 MSE: 1.0 RMSE: 1.0 time: 6.3234 data: 0.8900 max mem: 1472\n"
          ]
        },
        {
          "name": "stderr",
          "output_type": "stream",
          "text": [
            "/usr/local/lib/python3.11/dist-packages/albumentations/core/composition.py:331: UserWarning: Got processor for keypoints, but no transform to process it.\n",
            "  self._set_keys()\n",
            "/usr/local/lib/python3.11/dist-packages/albumentations/core/composition.py:331: UserWarning: Got processor for keypoints, but no transform to process it.\n",
            "  self._set_keys()\n",
            "/usr/local/lib/python3.11/dist-packages/albumentations/core/composition.py:331: UserWarning: Got processor for keypoints, but no transform to process it.\n",
            "  self._set_keys()\n",
            "/usr/local/lib/python3.11/dist-packages/albumentations/core/composition.py:331: UserWarning: Got processor for keypoints, but no transform to process it.\n",
            "  self._set_keys()\n",
            "/usr/local/lib/python3.11/dist-packages/albumentations/core/composition.py:331: UserWarning: Got processor for keypoints, but no transform to process it.\n",
            "  self._set_keys()\n",
            "/usr/local/lib/python3.11/dist-packages/albumentations/core/composition.py:331: UserWarning: Got processor for keypoints, but no transform to process it.\n",
            "  self._set_keys()\n",
            "/usr/local/lib/python3.11/dist-packages/albumentations/core/composition.py:331: UserWarning: Got processor for keypoints, but no transform to process it.\n",
            "  self._set_keys()\n",
            "/usr/local/lib/python3.11/dist-packages/albumentations/core/composition.py:331: UserWarning: Got processor for keypoints, but no transform to process it.\n",
            "  self._set_keys()\n",
            "/usr/local/lib/python3.11/dist-packages/albumentations/core/composition.py:331: UserWarning: Got processor for keypoints, but no transform to process it.\n",
            "  self._set_keys()\n",
            "/usr/local/lib/python3.11/dist-packages/albumentations/core/composition.py:331: UserWarning: Got processor for keypoints, but no transform to process it.\n",
            "  self._set_keys()\n",
            "INFO:20250516_evaluation:test [221/258] eta: 0:04:33 n: 2 recall: 0.5 precision: 0.25 f1-score: 0.33 MAE: 2.0 MSE: 4.0 RMSE: 2.0 time: 6.2181 data: 0.8855 max mem: 1472\n"
          ]
        },
        {
          "name": "stdout",
          "output_type": "stream",
          "text": [
            "test [221/258] eta: 0:04:33 n: 2 recall: 0.5 precision: 0.25 f1-score: 0.33 MAE: 2.0 MSE: 4.0 RMSE: 2.0 time: 6.2181 data: 0.8855 max mem: 1472\n"
          ]
        },
        {
          "name": "stderr",
          "output_type": "stream",
          "text": [
            "/usr/local/lib/python3.11/dist-packages/albumentations/core/composition.py:331: UserWarning: Got processor for keypoints, but no transform to process it.\n",
            "  self._set_keys()\n",
            "/usr/local/lib/python3.11/dist-packages/albumentations/core/composition.py:331: UserWarning: Got processor for keypoints, but no transform to process it.\n",
            "  self._set_keys()\n",
            "/usr/local/lib/python3.11/dist-packages/albumentations/core/composition.py:331: UserWarning: Got processor for keypoints, but no transform to process it.\n",
            "  self._set_keys()\n",
            "/usr/local/lib/python3.11/dist-packages/albumentations/core/composition.py:331: UserWarning: Got processor for keypoints, but no transform to process it.\n",
            "  self._set_keys()\n",
            "/usr/local/lib/python3.11/dist-packages/albumentations/core/composition.py:331: UserWarning: Got processor for keypoints, but no transform to process it.\n",
            "  self._set_keys()\n",
            "/usr/local/lib/python3.11/dist-packages/albumentations/core/composition.py:331: UserWarning: Got processor for keypoints, but no transform to process it.\n",
            "  self._set_keys()\n",
            "/usr/local/lib/python3.11/dist-packages/albumentations/core/composition.py:331: UserWarning: Got processor for keypoints, but no transform to process it.\n",
            "  self._set_keys()\n",
            "/usr/local/lib/python3.11/dist-packages/albumentations/core/composition.py:331: UserWarning: Got processor for keypoints, but no transform to process it.\n",
            "  self._set_keys()\n",
            "/usr/local/lib/python3.11/dist-packages/albumentations/core/composition.py:331: UserWarning: Got processor for keypoints, but no transform to process it.\n",
            "  self._set_keys()\n",
            "/usr/local/lib/python3.11/dist-packages/albumentations/core/composition.py:331: UserWarning: Got processor for keypoints, but no transform to process it.\n",
            "  self._set_keys()\n",
            "INFO:20250516_evaluation:test [231/258] eta: 0:03:20 n: 7 recall: 0.57 precision: 0.27 f1-score: 0.36 MAE: 8.0 MSE: 64.0 RMSE: 8.0 time: 6.2253 data: 0.9154 max mem: 1472\n"
          ]
        },
        {
          "name": "stdout",
          "output_type": "stream",
          "text": [
            "test [231/258] eta: 0:03:20 n: 7 recall: 0.57 precision: 0.27 f1-score: 0.36 MAE: 8.0 MSE: 64.0 RMSE: 8.0 time: 6.2253 data: 0.9154 max mem: 1472\n"
          ]
        },
        {
          "name": "stderr",
          "output_type": "stream",
          "text": [
            "/usr/local/lib/python3.11/dist-packages/albumentations/core/composition.py:331: UserWarning: Got processor for keypoints, but no transform to process it.\n",
            "  self._set_keys()\n",
            "/usr/local/lib/python3.11/dist-packages/albumentations/core/composition.py:331: UserWarning: Got processor for keypoints, but no transform to process it.\n",
            "  self._set_keys()\n",
            "/usr/local/lib/python3.11/dist-packages/albumentations/core/composition.py:331: UserWarning: Got processor for keypoints, but no transform to process it.\n",
            "  self._set_keys()\n",
            "/usr/local/lib/python3.11/dist-packages/albumentations/core/composition.py:331: UserWarning: Got processor for keypoints, but no transform to process it.\n",
            "  self._set_keys()\n",
            "/usr/local/lib/python3.11/dist-packages/albumentations/core/composition.py:331: UserWarning: Got processor for keypoints, but no transform to process it.\n",
            "  self._set_keys()\n",
            "/usr/local/lib/python3.11/dist-packages/albumentations/core/composition.py:331: UserWarning: Got processor for keypoints, but no transform to process it.\n",
            "  self._set_keys()\n",
            "/usr/local/lib/python3.11/dist-packages/albumentations/core/composition.py:331: UserWarning: Got processor for keypoints, but no transform to process it.\n",
            "  self._set_keys()\n",
            "/usr/local/lib/python3.11/dist-packages/albumentations/core/composition.py:331: UserWarning: Got processor for keypoints, but no transform to process it.\n",
            "  self._set_keys()\n",
            "/usr/local/lib/python3.11/dist-packages/albumentations/core/composition.py:331: UserWarning: Got processor for keypoints, but no transform to process it.\n",
            "  self._set_keys()\n",
            "/usr/local/lib/python3.11/dist-packages/albumentations/core/composition.py:331: UserWarning: Got processor for keypoints, but no transform to process it.\n",
            "  self._set_keys()\n",
            "INFO:20250516_evaluation:test [241/258] eta: 0:02:08 n: 13 recall: 0.54 precision: 0.7 f1-score: 0.61 MAE: 3.0 MSE: 9.0 RMSE: 3.0 time: 6.3148 data: 0.9603 max mem: 1472\n"
          ]
        },
        {
          "name": "stdout",
          "output_type": "stream",
          "text": [
            "test [241/258] eta: 0:02:08 n: 13 recall: 0.54 precision: 0.7 f1-score: 0.61 MAE: 3.0 MSE: 9.0 RMSE: 3.0 time: 6.3148 data: 0.9603 max mem: 1472\n"
          ]
        },
        {
          "name": "stderr",
          "output_type": "stream",
          "text": [
            "/usr/local/lib/python3.11/dist-packages/albumentations/core/composition.py:331: UserWarning: Got processor for keypoints, but no transform to process it.\n",
            "  self._set_keys()\n",
            "/usr/local/lib/python3.11/dist-packages/albumentations/core/composition.py:331: UserWarning: Got processor for keypoints, but no transform to process it.\n",
            "  self._set_keys()\n",
            "/usr/local/lib/python3.11/dist-packages/albumentations/core/composition.py:331: UserWarning: Got processor for keypoints, but no transform to process it.\n",
            "  self._set_keys()\n",
            "/usr/local/lib/python3.11/dist-packages/albumentations/core/composition.py:331: UserWarning: Got processor for keypoints, but no transform to process it.\n",
            "  self._set_keys()\n",
            "/usr/local/lib/python3.11/dist-packages/albumentations/core/composition.py:331: UserWarning: Got processor for keypoints, but no transform to process it.\n",
            "  self._set_keys()\n",
            "/usr/local/lib/python3.11/dist-packages/albumentations/core/composition.py:331: UserWarning: Got processor for keypoints, but no transform to process it.\n",
            "  self._set_keys()\n",
            "/usr/local/lib/python3.11/dist-packages/albumentations/core/composition.py:331: UserWarning: Got processor for keypoints, but no transform to process it.\n",
            "  self._set_keys()\n",
            "/usr/local/lib/python3.11/dist-packages/albumentations/core/composition.py:331: UserWarning: Got processor for keypoints, but no transform to process it.\n",
            "  self._set_keys()\n",
            "/usr/local/lib/python3.11/dist-packages/albumentations/core/composition.py:331: UserWarning: Got processor for keypoints, but no transform to process it.\n",
            "  self._set_keys()\n",
            "/usr/local/lib/python3.11/dist-packages/albumentations/core/composition.py:331: UserWarning: Got processor for keypoints, but no transform to process it.\n",
            "  self._set_keys()\n",
            "INFO:20250516_evaluation:test [251/258] eta: 0:00:56 n: 2 recall: 1.0 precision: 0.29 f1-score: 0.44 MAE: 5.0 MSE: 25.0 RMSE: 5.0 time: 6.4106 data: 0.9672 max mem: 1472\n"
          ]
        },
        {
          "name": "stdout",
          "output_type": "stream",
          "text": [
            "test [251/258] eta: 0:00:56 n: 2 recall: 1.0 precision: 0.29 f1-score: 0.44 MAE: 5.0 MSE: 25.0 RMSE: 5.0 time: 6.4106 data: 0.9672 max mem: 1472\n"
          ]
        },
        {
          "name": "stderr",
          "output_type": "stream",
          "text": [
            "/usr/local/lib/python3.11/dist-packages/albumentations/core/composition.py:331: UserWarning: Got processor for keypoints, but no transform to process it.\n",
            "  self._set_keys()\n",
            "/usr/local/lib/python3.11/dist-packages/albumentations/core/composition.py:331: UserWarning: Got processor for keypoints, but no transform to process it.\n",
            "  self._set_keys()\n",
            "/usr/local/lib/python3.11/dist-packages/albumentations/core/composition.py:331: UserWarning: Got processor for keypoints, but no transform to process it.\n",
            "  self._set_keys()\n",
            "/usr/local/lib/python3.11/dist-packages/albumentations/core/composition.py:331: UserWarning: Got processor for keypoints, but no transform to process it.\n",
            "  self._set_keys()\n",
            "/usr/local/lib/python3.11/dist-packages/albumentations/core/composition.py:331: UserWarning: Got processor for keypoints, but no transform to process it.\n",
            "  self._set_keys()\n",
            "/usr/local/lib/python3.11/dist-packages/albumentations/core/composition.py:331: UserWarning: Got processor for keypoints, but no transform to process it.\n",
            "  self._set_keys()\n",
            "/usr/local/lib/python3.11/dist-packages/albumentations/core/composition.py:331: UserWarning: Got processor for keypoints, but no transform to process it.\n",
            "  self._set_keys()\n",
            "INFO:20250516_evaluation:test [258/258] eta: 0:00:07 n: 3 recall: 1.0 precision: 0.27 f1-score: 0.43 MAE: 8.0 MSE: 64.0 RMSE: 8.0 time: 6.3364 data: 0.9157 max mem: 1472\n",
            "INFO:20250516_evaluation:test Total time: 0:30:27 (7.0838 s / it)\n"
          ]
        },
        {
          "name": "stdout",
          "output_type": "stream",
          "text": [
            "test [258/258] eta: 0:00:07 n: 3 recall: 1.0 precision: 0.27 f1-score: 0.43 MAE: 8.0 MSE: 64.0 RMSE: 8.0 time: 6.3364 data: 0.9157 max mem: 1472\n",
            "test Total time: 0:30:27 (7.0838 s / it)\n"
          ]
        }
      ],
      "source": [
        "test_f1_score = test_evaluator.evaluate(returns='f1_score')"
      ]
    },
    {
      "cell_type": "code",
      "execution_count": 16,
      "metadata": {
        "colab": {
          "base_uri": "https://localhost:8080/",
          "height": 269
        },
        "id": "huO-0y3sUQQy",
        "outputId": "ec5148d3-bf76-44fb-d010-23d5e0afc89b"
      },
      "outputs": [
        {
          "data": {
            "application/vnd.google.colaboratory.intrinsic+json": {
              "summary": "{\n  \"name\": \"detections\",\n  \"rows\": 7,\n  \"fields\": [\n    {\n      \"column\": \"class\",\n      \"properties\": {\n        \"dtype\": \"string\",\n        \"num_unique_values\": 7,\n        \"samples\": [\n          \"1\",\n          \"2\",\n          \"6\"\n        ],\n        \"semantic_type\": \"\",\n        \"description\": \"\"\n      }\n    },\n    {\n      \"column\": \"n\",\n      \"properties\": {\n        \"dtype\": \"number\",\n        \"std\": 769,\n        \"min\": 36,\n        \"max\": 2299,\n        \"num_unique_values\": 7,\n        \"samples\": [\n          675,\n          349,\n          688\n        ],\n        \"semantic_type\": \"\",\n        \"description\": \"\"\n      }\n    },\n    {\n      \"column\": \"recall\",\n      \"properties\": {\n        \"dtype\": \"number\",\n        \"std\": 0.18221938515163338,\n        \"min\": 0.33783783783783783,\n        \"max\": 0.8574423480083857,\n        \"num_unique_values\": 7,\n        \"samples\": [\n          0.8562962962962963,\n          0.6418338108882522,\n          0.7093023255813954\n        ],\n        \"semantic_type\": \"\",\n        \"description\": \"\"\n      }\n    },\n    {\n      \"column\": \"precision\",\n      \"properties\": {\n        \"dtype\": \"number\",\n        \"std\": 0.23544386731030928,\n        \"min\": 0.16556291390728478,\n        \"max\": 0.7659176029962547,\n        \"num_unique_values\": 7,\n        \"samples\": [\n          0.6980676328502415,\n          0.7296416938110749,\n          0.28807556080283353\n        ],\n        \"semantic_type\": \"\",\n        \"description\": \"\"\n      }\n    },\n    {\n      \"column\": \"f1_score\",\n      \"properties\": {\n        \"dtype\": \"number\",\n        \"std\": 0.20982001884019427,\n        \"min\": 0.22222222222222218,\n        \"max\": 0.8090999010880316,\n        \"num_unique_values\": 7,\n        \"samples\": [\n          0.7691284098469727,\n          0.6829268292682928,\n          0.40973971452560876\n        ],\n        \"semantic_type\": \"\",\n        \"description\": \"\"\n      }\n    },\n    {\n      \"column\": \"confusion\",\n      \"properties\": {\n        \"dtype\": \"number\",\n        \"std\": 0.05546676641396612,\n        \"min\": 0.0,\n        \"max\": 0.1351351351351351,\n        \"num_unique_values\": 6,\n        \"samples\": [\n          0.041459369817578806,\n          0.1351351351351351,\n          0.0\n        ],\n        \"semantic_type\": \"\",\n        \"description\": \"\"\n      }\n    },\n    {\n      \"column\": \"mae\",\n      \"properties\": {\n        \"dtype\": \"number\",\n        \"std\": 2.688052881753134,\n        \"min\": 1.1916666666666667,\n        \"max\": 8.592,\n        \"num_unique_values\": 7,\n        \"samples\": [\n          2.104761904761905,\n          3.0,\n          8.592\n        ],\n        \"semantic_type\": \"\",\n        \"description\": \"\"\n      }\n    },\n    {\n      \"column\": \"mse\",\n      \"properties\": {\n        \"dtype\": \"number\",\n        \"std\": 107.1080183579786,\n        \"min\": 3.3793103448275863,\n        \"max\": 281.744,\n        \"num_unique_values\": 7,\n        \"samples\": [\n          10.00952380952381,\n          26.666666666666668,\n          281.744\n        ],\n        \"semantic_type\": \"\",\n        \"description\": \"\"\n      }\n    },\n    {\n      \"column\": \"rmse\",\n      \"properties\": {\n        \"dtype\": \"number\",\n        \"std\": 5.829744343377866,\n        \"min\": 1.8382900600361158,\n        \"max\": 16.785231604002373,\n        \"num_unique_values\": 7,\n        \"samples\": [\n          3.1637831483089687,\n          5.163977794943222,\n          16.785231604002373\n        ],\n        \"semantic_type\": \"\",\n        \"description\": \"\"\n      }\n    },\n    {\n      \"column\": \"ap\",\n      \"properties\": {\n        \"dtype\": \"number\",\n        \"std\": 0.20532618129864802,\n        \"min\": 0.18580126638748257,\n        \"max\": 0.8136147625366327,\n        \"num_unique_values\": 7,\n        \"samples\": [\n          0.763494680840722,\n          0.542759486757882,\n          0.5146066246493298\n        ],\n        \"semantic_type\": \"\",\n        \"description\": \"\"\n      }\n    }\n  ]\n}",
              "type": "dataframe",
              "variable_name": "detections"
            },
            "text/html": [
              "\n",
              "  <div id=\"df-858c480d-fdac-472e-99fe-740e4b5a2087\" class=\"colab-df-container\">\n",
              "    <div>\n",
              "<style scoped>\n",
              "    .dataframe tbody tr th:only-of-type {\n",
              "        vertical-align: middle;\n",
              "    }\n",
              "\n",
              "    .dataframe tbody tr th {\n",
              "        vertical-align: top;\n",
              "    }\n",
              "\n",
              "    .dataframe thead th {\n",
              "        text-align: right;\n",
              "    }\n",
              "</style>\n",
              "<table border=\"1\" class=\"dataframe\">\n",
              "  <thead>\n",
              "    <tr style=\"text-align: right;\">\n",
              "      <th></th>\n",
              "      <th>class</th>\n",
              "      <th>n</th>\n",
              "      <th>recall</th>\n",
              "      <th>precision</th>\n",
              "      <th>f1_score</th>\n",
              "      <th>confusion</th>\n",
              "      <th>mae</th>\n",
              "      <th>mse</th>\n",
              "      <th>rmse</th>\n",
              "      <th>ap</th>\n",
              "    </tr>\n",
              "  </thead>\n",
              "  <tbody>\n",
              "    <tr>\n",
              "      <th>0</th>\n",
              "      <td>1</td>\n",
              "      <td>675</td>\n",
              "      <td>0.856296</td>\n",
              "      <td>0.698068</td>\n",
              "      <td>0.769128</td>\n",
              "      <td>0.041459</td>\n",
              "      <td>2.104762</td>\n",
              "      <td>10.009524</td>\n",
              "      <td>3.163783</td>\n",
              "      <td>0.763495</td>\n",
              "    </tr>\n",
              "    <tr>\n",
              "      <th>1</th>\n",
              "      <td>2</td>\n",
              "      <td>349</td>\n",
              "      <td>0.641834</td>\n",
              "      <td>0.729642</td>\n",
              "      <td>0.682927</td>\n",
              "      <td>0.135135</td>\n",
              "      <td>3.000000</td>\n",
              "      <td>26.666667</td>\n",
              "      <td>5.163978</td>\n",
              "      <td>0.542759</td>\n",
              "    </tr>\n",
              "    <tr>\n",
              "      <th>2</th>\n",
              "      <td>3</td>\n",
              "      <td>477</td>\n",
              "      <td>0.857442</td>\n",
              "      <td>0.765918</td>\n",
              "      <td>0.809100</td>\n",
              "      <td>0.131635</td>\n",
              "      <td>1.191667</td>\n",
              "      <td>3.875000</td>\n",
              "      <td>1.968502</td>\n",
              "      <td>0.813615</td>\n",
              "    </tr>\n",
              "    <tr>\n",
              "      <th>3</th>\n",
              "      <td>4</td>\n",
              "      <td>74</td>\n",
              "      <td>0.337838</td>\n",
              "      <td>0.165563</td>\n",
              "      <td>0.222222</td>\n",
              "      <td>0.074074</td>\n",
              "      <td>2.409091</td>\n",
              "      <td>10.257576</td>\n",
              "      <td>3.202745</td>\n",
              "      <td>0.185801</td>\n",
              "    </tr>\n",
              "    <tr>\n",
              "      <th>4</th>\n",
              "      <td>5</td>\n",
              "      <td>36</td>\n",
              "      <td>0.750000</td>\n",
              "      <td>0.385714</td>\n",
              "      <td>0.509434</td>\n",
              "      <td>0.068966</td>\n",
              "      <td>1.517241</td>\n",
              "      <td>3.379310</td>\n",
              "      <td>1.838290</td>\n",
              "      <td>0.590199</td>\n",
              "    </tr>\n",
              "    <tr>\n",
              "      <th>5</th>\n",
              "      <td>6</td>\n",
              "      <td>688</td>\n",
              "      <td>0.709302</td>\n",
              "      <td>0.288076</td>\n",
              "      <td>0.409740</td>\n",
              "      <td>0.000000</td>\n",
              "      <td>8.592000</td>\n",
              "      <td>281.744000</td>\n",
              "      <td>16.785232</td>\n",
              "      <td>0.514607</td>\n",
              "    </tr>\n",
              "    <tr>\n",
              "      <th>6</th>\n",
              "      <td>binary</td>\n",
              "      <td>2299</td>\n",
              "      <td>0.816442</td>\n",
              "      <td>0.523717</td>\n",
              "      <td>0.638110</td>\n",
              "      <td>0.000000</td>\n",
              "      <td>5.686047</td>\n",
              "      <td>148.391473</td>\n",
              "      <td>12.181604</td>\n",
              "      <td>0.639674</td>\n",
              "    </tr>\n",
              "  </tbody>\n",
              "</table>\n",
              "</div>\n",
              "    <div class=\"colab-df-buttons\">\n",
              "\n",
              "  <div class=\"colab-df-container\">\n",
              "    <button class=\"colab-df-convert\" onclick=\"convertToInteractive('df-858c480d-fdac-472e-99fe-740e4b5a2087')\"\n",
              "            title=\"Convert this dataframe to an interactive table.\"\n",
              "            style=\"display:none;\">\n",
              "\n",
              "  <svg xmlns=\"http://www.w3.org/2000/svg\" height=\"24px\" viewBox=\"0 -960 960 960\">\n",
              "    <path d=\"M120-120v-720h720v720H120Zm60-500h600v-160H180v160Zm220 220h160v-160H400v160Zm0 220h160v-160H400v160ZM180-400h160v-160H180v160Zm440 0h160v-160H620v160ZM180-180h160v-160H180v160Zm440 0h160v-160H620v160Z\"/>\n",
              "  </svg>\n",
              "    </button>\n",
              "\n",
              "  <style>\n",
              "    .colab-df-container {\n",
              "      display:flex;\n",
              "      gap: 12px;\n",
              "    }\n",
              "\n",
              "    .colab-df-convert {\n",
              "      background-color: #E8F0FE;\n",
              "      border: none;\n",
              "      border-radius: 50%;\n",
              "      cursor: pointer;\n",
              "      display: none;\n",
              "      fill: #1967D2;\n",
              "      height: 32px;\n",
              "      padding: 0 0 0 0;\n",
              "      width: 32px;\n",
              "    }\n",
              "\n",
              "    .colab-df-convert:hover {\n",
              "      background-color: #E2EBFA;\n",
              "      box-shadow: 0px 1px 2px rgba(60, 64, 67, 0.3), 0px 1px 3px 1px rgba(60, 64, 67, 0.15);\n",
              "      fill: #174EA6;\n",
              "    }\n",
              "\n",
              "    .colab-df-buttons div {\n",
              "      margin-bottom: 4px;\n",
              "    }\n",
              "\n",
              "    [theme=dark] .colab-df-convert {\n",
              "      background-color: #3B4455;\n",
              "      fill: #D2E3FC;\n",
              "    }\n",
              "\n",
              "    [theme=dark] .colab-df-convert:hover {\n",
              "      background-color: #434B5C;\n",
              "      box-shadow: 0px 1px 3px 1px rgba(0, 0, 0, 0.15);\n",
              "      filter: drop-shadow(0px 1px 2px rgba(0, 0, 0, 0.3));\n",
              "      fill: #FFFFFF;\n",
              "    }\n",
              "  </style>\n",
              "\n",
              "    <script>\n",
              "      const buttonEl =\n",
              "        document.querySelector('#df-858c480d-fdac-472e-99fe-740e4b5a2087 button.colab-df-convert');\n",
              "      buttonEl.style.display =\n",
              "        google.colab.kernel.accessAllowed ? 'block' : 'none';\n",
              "\n",
              "      async function convertToInteractive(key) {\n",
              "        const element = document.querySelector('#df-858c480d-fdac-472e-99fe-740e4b5a2087');\n",
              "        const dataTable =\n",
              "          await google.colab.kernel.invokeFunction('convertToInteractive',\n",
              "                                                    [key], {});\n",
              "        if (!dataTable) return;\n",
              "\n",
              "        const docLinkHtml = 'Like what you see? Visit the ' +\n",
              "          '<a target=\"_blank\" href=https://colab.research.google.com/notebooks/data_table.ipynb>data table notebook</a>'\n",
              "          + ' to learn more about interactive tables.';\n",
              "        element.innerHTML = '';\n",
              "        dataTable['output_type'] = 'display_data';\n",
              "        await google.colab.output.renderOutput(dataTable, element);\n",
              "        const docLink = document.createElement('div');\n",
              "        docLink.innerHTML = docLinkHtml;\n",
              "        element.appendChild(docLink);\n",
              "      }\n",
              "    </script>\n",
              "  </div>\n",
              "\n",
              "\n",
              "    <div id=\"df-bb63fe78-2c03-4ed4-bd84-b684fc7b11bc\">\n",
              "      <button class=\"colab-df-quickchart\" onclick=\"quickchart('df-bb63fe78-2c03-4ed4-bd84-b684fc7b11bc')\"\n",
              "                title=\"Suggest charts\"\n",
              "                style=\"display:none;\">\n",
              "\n",
              "<svg xmlns=\"http://www.w3.org/2000/svg\" height=\"24px\"viewBox=\"0 0 24 24\"\n",
              "     width=\"24px\">\n",
              "    <g>\n",
              "        <path d=\"M19 3H5c-1.1 0-2 .9-2 2v14c0 1.1.9 2 2 2h14c1.1 0 2-.9 2-2V5c0-1.1-.9-2-2-2zM9 17H7v-7h2v7zm4 0h-2V7h2v10zm4 0h-2v-4h2v4z\"/>\n",
              "    </g>\n",
              "</svg>\n",
              "      </button>\n",
              "\n",
              "<style>\n",
              "  .colab-df-quickchart {\n",
              "      --bg-color: #E8F0FE;\n",
              "      --fill-color: #1967D2;\n",
              "      --hover-bg-color: #E2EBFA;\n",
              "      --hover-fill-color: #174EA6;\n",
              "      --disabled-fill-color: #AAA;\n",
              "      --disabled-bg-color: #DDD;\n",
              "  }\n",
              "\n",
              "  [theme=dark] .colab-df-quickchart {\n",
              "      --bg-color: #3B4455;\n",
              "      --fill-color: #D2E3FC;\n",
              "      --hover-bg-color: #434B5C;\n",
              "      --hover-fill-color: #FFFFFF;\n",
              "      --disabled-bg-color: #3B4455;\n",
              "      --disabled-fill-color: #666;\n",
              "  }\n",
              "\n",
              "  .colab-df-quickchart {\n",
              "    background-color: var(--bg-color);\n",
              "    border: none;\n",
              "    border-radius: 50%;\n",
              "    cursor: pointer;\n",
              "    display: none;\n",
              "    fill: var(--fill-color);\n",
              "    height: 32px;\n",
              "    padding: 0;\n",
              "    width: 32px;\n",
              "  }\n",
              "\n",
              "  .colab-df-quickchart:hover {\n",
              "    background-color: var(--hover-bg-color);\n",
              "    box-shadow: 0 1px 2px rgba(60, 64, 67, 0.3), 0 1px 3px 1px rgba(60, 64, 67, 0.15);\n",
              "    fill: var(--button-hover-fill-color);\n",
              "  }\n",
              "\n",
              "  .colab-df-quickchart-complete:disabled,\n",
              "  .colab-df-quickchart-complete:disabled:hover {\n",
              "    background-color: var(--disabled-bg-color);\n",
              "    fill: var(--disabled-fill-color);\n",
              "    box-shadow: none;\n",
              "  }\n",
              "\n",
              "  .colab-df-spinner {\n",
              "    border: 2px solid var(--fill-color);\n",
              "    border-color: transparent;\n",
              "    border-bottom-color: var(--fill-color);\n",
              "    animation:\n",
              "      spin 1s steps(1) infinite;\n",
              "  }\n",
              "\n",
              "  @keyframes spin {\n",
              "    0% {\n",
              "      border-color: transparent;\n",
              "      border-bottom-color: var(--fill-color);\n",
              "      border-left-color: var(--fill-color);\n",
              "    }\n",
              "    20% {\n",
              "      border-color: transparent;\n",
              "      border-left-color: var(--fill-color);\n",
              "      border-top-color: var(--fill-color);\n",
              "    }\n",
              "    30% {\n",
              "      border-color: transparent;\n",
              "      border-left-color: var(--fill-color);\n",
              "      border-top-color: var(--fill-color);\n",
              "      border-right-color: var(--fill-color);\n",
              "    }\n",
              "    40% {\n",
              "      border-color: transparent;\n",
              "      border-right-color: var(--fill-color);\n",
              "      border-top-color: var(--fill-color);\n",
              "    }\n",
              "    60% {\n",
              "      border-color: transparent;\n",
              "      border-right-color: var(--fill-color);\n",
              "    }\n",
              "    80% {\n",
              "      border-color: transparent;\n",
              "      border-right-color: var(--fill-color);\n",
              "      border-bottom-color: var(--fill-color);\n",
              "    }\n",
              "    90% {\n",
              "      border-color: transparent;\n",
              "      border-bottom-color: var(--fill-color);\n",
              "    }\n",
              "  }\n",
              "</style>\n",
              "\n",
              "      <script>\n",
              "        async function quickchart(key) {\n",
              "          const quickchartButtonEl =\n",
              "            document.querySelector('#' + key + ' button');\n",
              "          quickchartButtonEl.disabled = true;  // To prevent multiple clicks.\n",
              "          quickchartButtonEl.classList.add('colab-df-spinner');\n",
              "          try {\n",
              "            const charts = await google.colab.kernel.invokeFunction(\n",
              "                'suggestCharts', [key], {});\n",
              "          } catch (error) {\n",
              "            console.error('Error during call to suggestCharts:', error);\n",
              "          }\n",
              "          quickchartButtonEl.classList.remove('colab-df-spinner');\n",
              "          quickchartButtonEl.classList.add('colab-df-quickchart-complete');\n",
              "        }\n",
              "        (() => {\n",
              "          let quickchartButtonEl =\n",
              "            document.querySelector('#df-bb63fe78-2c03-4ed4-bd84-b684fc7b11bc button');\n",
              "          quickchartButtonEl.style.display =\n",
              "            google.colab.kernel.accessAllowed ? 'block' : 'none';\n",
              "        })();\n",
              "      </script>\n",
              "    </div>\n",
              "\n",
              "  <div id=\"id_bd1c23a7-7f29-440d-84a0-ed2e93f158ec\">\n",
              "    <style>\n",
              "      .colab-df-generate {\n",
              "        background-color: #E8F0FE;\n",
              "        border: none;\n",
              "        border-radius: 50%;\n",
              "        cursor: pointer;\n",
              "        display: none;\n",
              "        fill: #1967D2;\n",
              "        height: 32px;\n",
              "        padding: 0 0 0 0;\n",
              "        width: 32px;\n",
              "      }\n",
              "\n",
              "      .colab-df-generate:hover {\n",
              "        background-color: #E2EBFA;\n",
              "        box-shadow: 0px 1px 2px rgba(60, 64, 67, 0.3), 0px 1px 3px 1px rgba(60, 64, 67, 0.15);\n",
              "        fill: #174EA6;\n",
              "      }\n",
              "\n",
              "      [theme=dark] .colab-df-generate {\n",
              "        background-color: #3B4455;\n",
              "        fill: #D2E3FC;\n",
              "      }\n",
              "\n",
              "      [theme=dark] .colab-df-generate:hover {\n",
              "        background-color: #434B5C;\n",
              "        box-shadow: 0px 1px 3px 1px rgba(0, 0, 0, 0.15);\n",
              "        filter: drop-shadow(0px 1px 2px rgba(0, 0, 0, 0.3));\n",
              "        fill: #FFFFFF;\n",
              "      }\n",
              "    </style>\n",
              "    <button class=\"colab-df-generate\" onclick=\"generateWithVariable('detections')\"\n",
              "            title=\"Generate code using this dataframe.\"\n",
              "            style=\"display:none;\">\n",
              "\n",
              "  <svg xmlns=\"http://www.w3.org/2000/svg\" height=\"24px\"viewBox=\"0 0 24 24\"\n",
              "       width=\"24px\">\n",
              "    <path d=\"M7,19H8.4L18.45,9,17,7.55,7,17.6ZM5,21V16.75L18.45,3.32a2,2,0,0,1,2.83,0l1.4,1.43a1.91,1.91,0,0,1,.58,1.4,1.91,1.91,0,0,1-.58,1.4L9.25,21ZM18.45,9,17,7.55Zm-12,3A5.31,5.31,0,0,0,4.9,8.1,5.31,5.31,0,0,0,1,6.5,5.31,5.31,0,0,0,4.9,4.9,5.31,5.31,0,0,0,6.5,1,5.31,5.31,0,0,0,8.1,4.9,5.31,5.31,0,0,0,12,6.5,5.46,5.46,0,0,0,6.5,12Z\"/>\n",
              "  </svg>\n",
              "    </button>\n",
              "    <script>\n",
              "      (() => {\n",
              "      const buttonEl =\n",
              "        document.querySelector('#id_bd1c23a7-7f29-440d-84a0-ed2e93f158ec button.colab-df-generate');\n",
              "      buttonEl.style.display =\n",
              "        google.colab.kernel.accessAllowed ? 'block' : 'none';\n",
              "\n",
              "      buttonEl.onclick = () => {\n",
              "        google.colab.notebook.generateWithVariable('detections');\n",
              "      }\n",
              "      })();\n",
              "    </script>\n",
              "  </div>\n",
              "\n",
              "    </div>\n",
              "  </div>\n"
            ],
            "text/plain": [
              "    class     n    recall  precision  f1_score  confusion       mae  \\\n",
              "0       1   675  0.856296   0.698068  0.769128   0.041459  2.104762   \n",
              "1       2   349  0.641834   0.729642  0.682927   0.135135  3.000000   \n",
              "2       3   477  0.857442   0.765918  0.809100   0.131635  1.191667   \n",
              "3       4    74  0.337838   0.165563  0.222222   0.074074  2.409091   \n",
              "4       5    36  0.750000   0.385714  0.509434   0.068966  1.517241   \n",
              "5       6   688  0.709302   0.288076  0.409740   0.000000  8.592000   \n",
              "6  binary  2299  0.816442   0.523717  0.638110   0.000000  5.686047   \n",
              "\n",
              "          mse       rmse        ap  \n",
              "0   10.009524   3.163783  0.763495  \n",
              "1   26.666667   5.163978  0.542759  \n",
              "2    3.875000   1.968502  0.813615  \n",
              "3   10.257576   3.202745  0.185801  \n",
              "4    3.379310   1.838290  0.590199  \n",
              "5  281.744000  16.785232  0.514607  \n",
              "6  148.391473  12.181604  0.639674  "
            ]
          },
          "execution_count": 16,
          "metadata": {},
          "output_type": "execute_result"
        }
      ],
      "source": [
        "detections = test_evaluator.results\n",
        "detections"
      ]
    },
    {
      "cell_type": "code",
      "execution_count": null,
      "metadata": {
        "id": "8lmATSG0fP04"
      },
      "outputs": [],
      "source": []
    },
    {
      "cell_type": "code",
      "execution_count": 18,
      "metadata": {
        "colab": {
          "base_uri": "https://localhost:8080/"
        },
        "id": "W_mS2yIxeQmD",
        "outputId": "86d819ad-cce3-46a1-92f5-45dfca42c4c5"
      },
      "outputs": [
        {
          "name": "stdout",
          "output_type": "stream",
          "text": [
            "       0      1      2     3     4      5\n",
            "0  578.0    0.0    7.0   8.0  10.0    0.0\n",
            "1    0.0  224.0    0.0  30.0   4.0    1.0\n",
            "2   59.0    0.0  409.0   1.0   2.0    0.0\n",
            "3    0.0    0.0    0.0  25.0   1.0    1.0\n",
            "4    1.0    0.0    1.0   0.0  27.0    0.0\n",
            "5    0.0    0.0    0.0   0.0   0.0  488.0\n"
          ]
        }
      ],
      "source": [
        "import pandas\n",
        "cm = pandas.DataFrame(metrics.confusion_matrix)\n",
        "print(cm)"
      ]
    }
  ],
  "metadata": {
    "accelerator": "GPU",
    "colab": {
      "gpuType": "T4",
      "provenance": []
    },
    "kernelspec": {
      "display_name": "Python 3",
      "name": "python3"
    },
    "language_info": {
      "name": "python"
    }
  },
  "nbformat": 4,
  "nbformat_minor": 0
}
